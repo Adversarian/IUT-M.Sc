{
  "nbformat": 4,
  "nbformat_minor": 0,
  "metadata": {
    "colab": {
      "name": "DeepPredictor.ipynb",
      "provenance": [],
      "collapsed_sections": []
    },
    "kernelspec": {
      "name": "python3",
      "display_name": "Python 3"
    },
    "language_info": {
      "name": "python"
    },
    "accelerator": "GPU"
  },
  "cells": [
    {
      "cell_type": "code",
      "execution_count": 2,
      "metadata": {
        "id": "F6EUJK6BwM-3"
      },
      "outputs": [],
      "source": [
        "import tensorflow as tf \n",
        "import numpy as np"
      ]
    },
    {
      "cell_type": "code",
      "source": [
        "!gdown --id 12JjK7ipDGgclsZFt1E3_CXVQA03yD8Es\n",
        "!gdown --id 1BbwMyA-6SxaMR-KAeHU5ImzaA4DGQOQp"
      ],
      "metadata": {
        "colab": {
          "base_uri": "https://localhost:8080/"
        },
        "id": "kMLgZUqExP-_",
        "outputId": "011f76e7-bc0c-4787-b91d-00b55dc10dbb"
      },
      "execution_count": 1,
      "outputs": [
        {
          "output_type": "stream",
          "name": "stdout",
          "text": [
            "Downloading...\n",
            "From: https://drive.google.com/uc?id=12JjK7ipDGgclsZFt1E3_CXVQA03yD8Es\n",
            "To: /content/X.npy\n",
            "100% 8.99M/8.99M [00:00<00:00, 41.6MB/s]\n",
            "Downloading...\n",
            "From: https://drive.google.com/uc?id=1BbwMyA-6SxaMR-KAeHU5ImzaA4DGQOQp\n",
            "To: /content/Y.npy\n",
            "100% 1.28M/1.28M [00:00<00:00, 40.7MB/s]\n"
          ]
        }
      ]
    },
    {
      "cell_type": "code",
      "source": [
        "train_X = np.load('/content/X.npy')\n",
        "train_Y = np.load('/content/Y.npy')\n",
        "train_X = train_X.astype(np.float32)\n",
        "train_Y = train_Y.astype(np.float32)"
      ],
      "metadata": {
        "id": "h3lD0C9rxkqt"
      },
      "execution_count": 9,
      "outputs": []
    },
    {
      "cell_type": "code",
      "source": [
        "from tensorflow.keras import Sequential\n",
        "from tensorflow.keras.layers import Dense\n",
        "\n",
        "model = Sequential(\n",
        "    [\n",
        "     Dense(64, activation='relu', input_shape=(7,)),\n",
        "     Dense(32, activation='relu'),\n",
        "     Dense(1, activation='relu')\n",
        "    ]\n",
        ")\n",
        "\n",
        "model.compile(\n",
        "    optimizer='adam',\n",
        "    loss='mse',\n",
        "    metrics=['Accuracy']\n",
        ")\n",
        "\n",
        "model.summary()"
      ],
      "metadata": {
        "colab": {
          "base_uri": "https://localhost:8080/"
        },
        "id": "fLT7tcg5yEbj",
        "outputId": "750ab44e-0e5b-4dd9-ab79-6a7f64f330e5"
      },
      "execution_count": 12,
      "outputs": [
        {
          "output_type": "stream",
          "name": "stdout",
          "text": [
            "Model: \"sequential_3\"\n",
            "_________________________________________________________________\n",
            " Layer (type)                Output Shape              Param #   \n",
            "=================================================================\n",
            " dense_9 (Dense)             (None, 64)                512       \n",
            "                                                                 \n",
            " dense_10 (Dense)            (None, 32)                2080      \n",
            "                                                                 \n",
            " dense_11 (Dense)            (None, 1)                 33        \n",
            "                                                                 \n",
            "=================================================================\n",
            "Total params: 2,625\n",
            "Trainable params: 2,625\n",
            "Non-trainable params: 0\n",
            "_________________________________________________________________\n"
          ]
        }
      ]
    },
    {
      "cell_type": "code",
      "source": [
        "model.fit(\n",
        "    x=train_X,\n",
        "    y=train_Y,\n",
        "    batch_size=128,\n",
        "    epochs=60,\n",
        "    validation_split=0.1\n",
        ")"
      ],
      "metadata": {
        "colab": {
          "base_uri": "https://localhost:8080/"
        },
        "id": "5XRH2hoFz3kB",
        "outputId": "60741edc-9394-4795-f338-c760211b4800"
      },
      "execution_count": 13,
      "outputs": [
        {
          "output_type": "stream",
          "name": "stdout",
          "text": [
            "Epoch 1/60\n",
            "9032/9032 [==============================] - 37s 4ms/step - loss: 154.0740 - Accuracy: 0.0045 - val_loss: 117.8448 - val_Accuracy: 0.0022\n",
            "Epoch 2/60\n",
            "9032/9032 [==============================] - 36s 4ms/step - loss: 121.6852 - Accuracy: 0.0043 - val_loss: 112.6519 - val_Accuracy: 0.0200\n",
            "Epoch 3/60\n",
            "9032/9032 [==============================] - 36s 4ms/step - loss: 119.0498 - Accuracy: 0.0078 - val_loss: 114.9106 - val_Accuracy: 0.0027\n",
            "Epoch 4/60\n",
            "9032/9032 [==============================] - 36s 4ms/step - loss: 117.4140 - Accuracy: 0.0047 - val_loss: 110.6756 - val_Accuracy: 0.0025\n",
            "Epoch 5/60\n",
            "9032/9032 [==============================] - 36s 4ms/step - loss: 115.9969 - Accuracy: 0.0102 - val_loss: 111.3670 - val_Accuracy: 0.0023\n",
            "Epoch 6/60\n",
            "9032/9032 [==============================] - 36s 4ms/step - loss: 115.4100 - Accuracy: 0.0056 - val_loss: 109.0400 - val_Accuracy: 0.0043\n",
            "Epoch 7/60\n",
            "9032/9032 [==============================] - 36s 4ms/step - loss: 114.7147 - Accuracy: 0.0059 - val_loss: 113.6904 - val_Accuracy: 0.0193\n",
            "Epoch 8/60\n",
            "9032/9032 [==============================] - 36s 4ms/step - loss: 114.4148 - Accuracy: 0.0087 - val_loss: 108.7344 - val_Accuracy: 0.0197\n",
            "Epoch 9/60\n",
            "9032/9032 [==============================] - 36s 4ms/step - loss: 114.0004 - Accuracy: 0.0070 - val_loss: 106.2794 - val_Accuracy: 0.0031\n",
            "Epoch 10/60\n",
            "9032/9032 [==============================] - 36s 4ms/step - loss: 113.5283 - Accuracy: 0.0071 - val_loss: 108.1170 - val_Accuracy: 0.0031\n",
            "Epoch 11/60\n",
            "9032/9032 [==============================] - 36s 4ms/step - loss: 113.0320 - Accuracy: 0.0056 - val_loss: 106.4948 - val_Accuracy: 0.0030\n",
            "Epoch 12/60\n",
            "9032/9032 [==============================] - 36s 4ms/step - loss: 112.9488 - Accuracy: 0.0080 - val_loss: 106.6653 - val_Accuracy: 0.0197\n",
            "Epoch 13/60\n",
            "9032/9032 [==============================] - 37s 4ms/step - loss: 112.5987 - Accuracy: 0.0097 - val_loss: 113.7680 - val_Accuracy: 0.0031\n",
            "Epoch 14/60\n",
            "9032/9032 [==============================] - 36s 4ms/step - loss: 112.1578 - Accuracy: 0.0100 - val_loss: 106.2019 - val_Accuracy: 0.0025\n",
            "Epoch 15/60\n",
            "9032/9032 [==============================] - 35s 4ms/step - loss: 112.1153 - Accuracy: 0.0062 - val_loss: 105.7190 - val_Accuracy: 0.0041\n",
            "Epoch 16/60\n",
            "9032/9032 [==============================] - 36s 4ms/step - loss: 111.8336 - Accuracy: 0.0080 - val_loss: 109.1995 - val_Accuracy: 0.0036\n",
            "Epoch 17/60\n",
            "9032/9032 [==============================] - 36s 4ms/step - loss: 111.7634 - Accuracy: 0.0058 - val_loss: 104.2769 - val_Accuracy: 0.0026\n",
            "Epoch 18/60\n",
            "9032/9032 [==============================] - 36s 4ms/step - loss: 111.4587 - Accuracy: 0.0062 - val_loss: 105.3730 - val_Accuracy: 0.0028\n",
            "Epoch 19/60\n",
            "9032/9032 [==============================] - 36s 4ms/step - loss: 111.4499 - Accuracy: 0.0076 - val_loss: 105.0025 - val_Accuracy: 0.0028\n",
            "Epoch 20/60\n",
            "9032/9032 [==============================] - 36s 4ms/step - loss: 111.3203 - Accuracy: 0.0065 - val_loss: 105.9580 - val_Accuracy: 0.0027\n",
            "Epoch 21/60\n",
            "9032/9032 [==============================] - 36s 4ms/step - loss: 111.1875 - Accuracy: 0.0103 - val_loss: 106.7393 - val_Accuracy: 0.0039\n",
            "Epoch 22/60\n",
            "9032/9032 [==============================] - 36s 4ms/step - loss: 111.0122 - Accuracy: 0.0055 - val_loss: 104.4869 - val_Accuracy: 0.0027\n",
            "Epoch 23/60\n",
            "9032/9032 [==============================] - 36s 4ms/step - loss: 111.0471 - Accuracy: 0.0059 - val_loss: 107.5066 - val_Accuracy: 0.0024\n",
            "Epoch 24/60\n",
            "9032/9032 [==============================] - 36s 4ms/step - loss: 110.7860 - Accuracy: 0.0082 - val_loss: 104.6579 - val_Accuracy: 0.0037\n",
            "Epoch 25/60\n",
            "9032/9032 [==============================] - 36s 4ms/step - loss: 110.6548 - Accuracy: 0.0063 - val_loss: 103.9674 - val_Accuracy: 0.0191\n",
            "Epoch 26/60\n",
            "9032/9032 [==============================] - 36s 4ms/step - loss: 110.6383 - Accuracy: 0.0083 - val_loss: 110.8098 - val_Accuracy: 0.0026\n",
            "Epoch 27/60\n",
            "9032/9032 [==============================] - 36s 4ms/step - loss: 110.5086 - Accuracy: 0.0094 - val_loss: 105.6125 - val_Accuracy: 0.0039\n",
            "Epoch 28/60\n",
            "9032/9032 [==============================] - 36s 4ms/step - loss: 110.5961 - Accuracy: 0.0068 - val_loss: 104.0213 - val_Accuracy: 0.0190\n",
            "Epoch 29/60\n",
            "9032/9032 [==============================] - 36s 4ms/step - loss: 110.5803 - Accuracy: 0.0073 - val_loss: 105.0637 - val_Accuracy: 0.0027\n",
            "Epoch 30/60\n",
            "9032/9032 [==============================] - 36s 4ms/step - loss: 110.3534 - Accuracy: 0.0091 - val_loss: 105.3692 - val_Accuracy: 0.0207\n",
            "Epoch 31/60\n",
            "9032/9032 [==============================] - 36s 4ms/step - loss: 110.2266 - Accuracy: 0.0072 - val_loss: 105.2977 - val_Accuracy: 0.0029\n",
            "Epoch 32/60\n",
            "9032/9032 [==============================] - 36s 4ms/step - loss: 110.2643 - Accuracy: 0.0069 - val_loss: 104.1568 - val_Accuracy: 0.0043\n",
            "Epoch 33/60\n",
            "9032/9032 [==============================] - 37s 4ms/step - loss: 110.2903 - Accuracy: 0.0102 - val_loss: 105.1498 - val_Accuracy: 0.0025\n",
            "Epoch 34/60\n",
            "9032/9032 [==============================] - 36s 4ms/step - loss: 110.0665 - Accuracy: 0.0100 - val_loss: 106.2070 - val_Accuracy: 0.0023\n",
            "Epoch 35/60\n",
            "9032/9032 [==============================] - 36s 4ms/step - loss: 110.0479 - Accuracy: 0.0082 - val_loss: 105.1381 - val_Accuracy: 0.0036\n",
            "Epoch 36/60\n",
            "9032/9032 [==============================] - 36s 4ms/step - loss: 110.0991 - Accuracy: 0.0072 - val_loss: 106.9420 - val_Accuracy: 0.0032\n",
            "Epoch 37/60\n",
            "9032/9032 [==============================] - 36s 4ms/step - loss: 109.9512 - Accuracy: 0.0090 - val_loss: 106.0287 - val_Accuracy: 0.0035\n",
            "Epoch 38/60\n",
            "9032/9032 [==============================] - 37s 4ms/step - loss: 109.8652 - Accuracy: 0.0067 - val_loss: 104.5577 - val_Accuracy: 0.0036\n",
            "Epoch 39/60\n",
            "9032/9032 [==============================] - 37s 4ms/step - loss: 109.8689 - Accuracy: 0.0066 - val_loss: 105.1538 - val_Accuracy: 0.0036\n",
            "Epoch 40/60\n",
            "9032/9032 [==============================] - 37s 4ms/step - loss: 109.8598 - Accuracy: 0.0082 - val_loss: 104.1164 - val_Accuracy: 0.0204\n",
            "Epoch 41/60\n",
            "9032/9032 [==============================] - 37s 4ms/step - loss: 109.7401 - Accuracy: 0.0080 - val_loss: 109.3618 - val_Accuracy: 0.0040\n",
            "Epoch 42/60\n",
            "9032/9032 [==============================] - 37s 4ms/step - loss: 109.7001 - Accuracy: 0.0057 - val_loss: 105.9237 - val_Accuracy: 0.0026\n",
            "Epoch 43/60\n",
            "9032/9032 [==============================] - 38s 4ms/step - loss: 109.5880 - Accuracy: 0.0069 - val_loss: 104.3259 - val_Accuracy: 0.0037\n",
            "Epoch 44/60\n",
            "9032/9032 [==============================] - 37s 4ms/step - loss: 109.5459 - Accuracy: 0.0079 - val_loss: 104.5233 - val_Accuracy: 0.0200\n",
            "Epoch 45/60\n",
            "9032/9032 [==============================] - 37s 4ms/step - loss: 109.4605 - Accuracy: 0.0089 - val_loss: 103.5203 - val_Accuracy: 0.0201\n",
            "Epoch 46/60\n",
            "9032/9032 [==============================] - 37s 4ms/step - loss: 109.4633 - Accuracy: 0.0084 - val_loss: 106.8940 - val_Accuracy: 0.0034\n",
            "Epoch 47/60\n",
            "9032/9032 [==============================] - 37s 4ms/step - loss: 109.4815 - Accuracy: 0.0072 - val_loss: 103.8842 - val_Accuracy: 0.0025\n",
            "Epoch 48/60\n",
            "9032/9032 [==============================] - 37s 4ms/step - loss: 109.4087 - Accuracy: 0.0082 - val_loss: 104.2888 - val_Accuracy: 0.0036\n",
            "Epoch 49/60\n",
            "9032/9032 [==============================] - 36s 4ms/step - loss: 109.4733 - Accuracy: 0.0085 - val_loss: 104.2152 - val_Accuracy: 0.0027\n",
            "Epoch 50/60\n",
            "9032/9032 [==============================] - 36s 4ms/step - loss: 109.2491 - Accuracy: 0.0072 - val_loss: 103.9234 - val_Accuracy: 0.0025\n",
            "Epoch 51/60\n",
            "9032/9032 [==============================] - 36s 4ms/step - loss: 109.3594 - Accuracy: 0.0113 - val_loss: 102.9599 - val_Accuracy: 0.0025\n",
            "Epoch 52/60\n",
            "9032/9032 [==============================] - 36s 4ms/step - loss: 109.1911 - Accuracy: 0.0083 - val_loss: 105.8414 - val_Accuracy: 0.0038\n",
            "Epoch 53/60\n",
            "9032/9032 [==============================] - 36s 4ms/step - loss: 109.3362 - Accuracy: 0.0091 - val_loss: 104.3317 - val_Accuracy: 0.0026\n",
            "Epoch 54/60\n",
            "9032/9032 [==============================] - 36s 4ms/step - loss: 109.1706 - Accuracy: 0.0075 - val_loss: 105.4092 - val_Accuracy: 0.0039\n",
            "Epoch 55/60\n",
            "9032/9032 [==============================] - 37s 4ms/step - loss: 109.1544 - Accuracy: 0.0081 - val_loss: 103.3065 - val_Accuracy: 0.0025\n",
            "Epoch 56/60\n",
            "9032/9032 [==============================] - 37s 4ms/step - loss: 108.9448 - Accuracy: 0.0080 - val_loss: 104.6629 - val_Accuracy: 0.0039\n",
            "Epoch 57/60\n",
            "9032/9032 [==============================] - 36s 4ms/step - loss: 109.0720 - Accuracy: 0.0102 - val_loss: 103.8550 - val_Accuracy: 0.0201\n",
            "Epoch 58/60\n",
            "9032/9032 [==============================] - 36s 4ms/step - loss: 109.0781 - Accuracy: 0.0093 - val_loss: 103.9093 - val_Accuracy: 0.0200\n",
            "Epoch 59/60\n",
            "9032/9032 [==============================] - 36s 4ms/step - loss: 108.9355 - Accuracy: 0.0076 - val_loss: 104.6460 - val_Accuracy: 0.0039\n",
            "Epoch 60/60\n",
            "9032/9032 [==============================] - 37s 4ms/step - loss: 108.9811 - Accuracy: 0.0103 - val_loss: 104.1133 - val_Accuracy: 0.0027\n"
          ]
        },
        {
          "output_type": "execute_result",
          "data": {
            "text/plain": [
              "<keras.callbacks.History at 0x7f04729aaa10>"
            ]
          },
          "metadata": {},
          "execution_count": 13
        }
      ]
    }
  ]
}