{
  "nbformat": 4,
  "nbformat_minor": 0,
  "metadata": {
    "colab": {
      "provenance": []
    },
    "kernelspec": {
      "name": "python3",
      "display_name": "Python 3"
    },
    "language_info": {
      "name": "python"
    }
  },
  "cells": [
    {
      "cell_type": "code",
      "source": [
        "!pip install pytextrank jedi -q"
      ],
      "metadata": {
        "id": "_Sn5ygw6cOmj"
      },
      "execution_count": 1,
      "outputs": []
    },
    {
      "cell_type": "code",
      "source": [
        "import warnings\n",
        "warnings.filterwarnings(\"ignore\")\n",
        "import pytextrank\n",
        "import spacy\n",
        "import pathlib\n",
        "from icecream import ic"
      ],
      "metadata": {
        "id": "ZujEfZApd7YM"
      },
      "execution_count": 2,
      "outputs": []
    },
    {
      "cell_type": "code",
      "source": [
        "text = pathlib.Path(\"cfc.txt\").read_text()\n",
        "text"
      ],
      "metadata": {
        "colab": {
          "base_uri": "https://localhost:8080/",
          "height": 105
        },
        "id": "nAmltKt_eoj2",
        "outputId": "ca24f4b3-9ee6-494a-8edc-0e2420133f72"
      },
      "execution_count": 3,
      "outputs": [
        {
          "output_type": "execute_result",
          "data": {
            "text/plain": [
              "\" Chelsea 'opted against' signing Salomon Rondón on deadline day.\\n\\nChelsea reportedly opted against signing Salomón Rondón on deadline day despite their long search for a new centre forward. With Olivier Giroud expected to leave, the Blues targeted Edinson Cavani, Dries Mertens and Moussa Dembele – only to end up with none of them. According to Telegraph Sport, Dalian Yifang offered Rondón to Chelsea only for them to prefer keeping Giroud at the club. Manchester United were also linked with the Venezuela international before agreeing a deal for Shanghai Shenhua striker Odion Ighalo. Manager Frank Lampard made no secret of his transfer window frustration, hinting that to secure top four football he ‘needed’ signings. Their draw against Leicester on Saturday means they have won just four of the last 13 Premier League matches.\""
            ],
            "application/vnd.google.colaboratory.intrinsic+json": {
              "type": "string"
            }
          },
          "metadata": {},
          "execution_count": 3
        }
      ]
    },
    {
      "cell_type": "markdown",
      "source": [
        "# Biased TextRank"
      ],
      "metadata": {
        "id": "-JctewoZhgZq"
      }
    },
    {
      "cell_type": "code",
      "source": [
        "nlp = spacy.load(\"en_core_web_sm\")\n",
        "nlp.add_pipe(\"biasedtextrank\");\n",
        "doc = nlp(text)\n",
        "\n",
        "focus = \"Leicester\"\n",
        "doc._.textrank.change_focus(focus, bias=10.0, default_bias=0.0)\n",
        "\n",
        "for phrase in doc._.phrases[:10]:\n",
        "  ic(phrase)"
      ],
      "metadata": {
        "colab": {
          "base_uri": "https://localhost:8080/"
        },
        "id": "aPzbNxqjgHqY",
        "outputId": "598699ae-f5d7-4f73-df3e-e308338c638d"
      },
      "execution_count": 4,
      "outputs": [
        {
          "output_type": "stream",
          "name": "stderr",
          "text": [
            "ic| phrase: Phrase(text='Leicester', chunks=[Leicester, Leicester], count=2, rank=0.26184834028994514)\n",
            "ic| phrase: Phrase(text='Saturday', chunks=[Saturday, Saturday], count=2, rank=0.13938186779355857)\n",
            "ic| phrase: Phrase(text='the last 13 Premier League matches', chunks=[the last 13 Premier League matches], count=1, rank=0.12502820319236171)\n",
            "ic| phrase: Phrase(text='none', chunks=[none], count=1, rank=1.9498221604845646e-07)\n",
            "ic| phrase: Phrase(text='Moussa Dembele', chunks=[Moussa Dembele, Moussa Dembele], count=2, rank=8.640024414329197e-08)\n",
            "ic| phrase: Phrase(text='Dries Mertens', chunks=[Dries Mertens], count=1, rank=5.152284728493906e-08)\n",
            "ic| phrase: Phrase(text='Dries', chunks=[Dries], count=1, rank=3.338614775256188e-08)\n",
            "ic| phrase: Phrase(text='Edinson Cavani', chunks=[Edinson Cavani], count=1, rank=3.076049036231119e-08)\n",
            "ic| phrase: Phrase(text='a new centre', chunks=[a new centre], count=1, rank=2.7737546970070932e-08)\n",
            "ic| phrase: Phrase(text='deadline day', chunks=[deadline day, deadline day, deadline day, deadline day], count=4, rank=1.3752326412669907e-08)\n"
          ]
        }
      ]
    },
    {
      "cell_type": "markdown",
      "source": [
        "# Vanilla TextRank"
      ],
      "metadata": {
        "id": "hb2xi3XnhkJk"
      }
    },
    {
      "cell_type": "code",
      "source": [
        "nlp = spacy.load(\"en_core_web_sm\")\n",
        "nlp.add_pipe(\"textrank\")\n",
        "doc = nlp(text)\n",
        "\n",
        "for phrase in doc._.phrases[:10]:\n",
        "  ic(phrase)"
      ],
      "metadata": {
        "colab": {
          "base_uri": "https://localhost:8080/"
        },
        "id": "Gfff8gOAhDe2",
        "outputId": "648f44ac-c0a7-4c1a-c8a5-3ad394362331"
      },
      "execution_count": 5,
      "outputs": [
        {
          "output_type": "stream",
          "name": "stderr",
          "text": [
            "ic| phrase: Phrase(text='Shanghai Shenhua striker Odion Ighalo', chunks=[Shanghai Shenhua striker Odion Ighalo], count=1, rank=0.11863090071749424)\n",
            "ic| phrase: Phrase(text='Odion Ighalo', chunks=[Odion Ighalo], count=1, rank=0.10925286108900635)\n",
            "ic| phrase: Phrase(text='none', chunks=[none], count=1, rank=0.09802416183300769)\n",
            "ic| phrase: Phrase(text='Moussa Dembele', chunks=[Moussa Dembele, Moussa Dembele], count=2, rank=0.09341044332809736)\n",
            "ic| phrase: Phrase(text='deadline day', chunks=[deadline day, deadline day, deadline day, deadline day], count=4, rank=0.09046182507994752)\n",
            "ic| phrase: Phrase(text='Dries Mertens', chunks=[Dries Mertens], count=1, rank=0.08919649435994934)\n",
            "ic| phrase: Phrase(text='Edinson Cavani', chunks=[Edinson Cavani], count=1, rank=0.08418633972470349)\n",
            "ic| phrase: Phrase(text='Shanghai Shenhua', chunks=[Shanghai Shenhua], count=1, rank=0.08254442709505862)\n",
            "ic| phrase: Phrase(text='Salomon Rondón', chunks=[Salomon Rondón, Salomon Rondón], count=2, rank=0.08228367707127111)\n",
            "ic| phrase: Phrase(text='Salomón Rondón', chunks=[Salomón Rondón, Salomón Rondón], count=2, rank=0.08228367707127111)\n"
          ]
        }
      ]
    }
  ]
}