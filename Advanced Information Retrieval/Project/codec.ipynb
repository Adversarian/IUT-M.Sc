{
 "cells": [
  {
   "cell_type": "code",
   "execution_count": null,
   "metadata": {},
   "outputs": [],
   "source": [
    "%pip install bitarray"
   ]
  },
  {
   "cell_type": "code",
   "execution_count": 2,
   "metadata": {},
   "outputs": [
    {
     "name": "stdout",
     "output_type": "stream",
     "text": [
      "apple world hello hello that apple bar bar apple this "
     ]
    }
   ],
   "source": [
    "import numpy as np\n",
    "from scipy.special import softmax\n",
    "from random import randint\n",
    "\n",
    "sample_vocab = ['hello', 'world', 'this', 'that', 'apple', 'oranges', 'foo', 'bar', '.']\n",
    "\n",
    "def sample_from_lm(context=None, seed=0):\n",
    "    np.random.seed(seed)\n",
    "    softmax_output = np.random.randint(0, 9, (9))\n",
    "    return softmax(softmax_output)\n",
    "\n",
    "for i in range(10):\n",
    "    print(sample_vocab[np.argmax(sample_from_lm(seed=i))], end=' ')"
   ]
  },
  {
   "cell_type": "code",
   "execution_count": 5,
   "metadata": {},
   "outputs": [],
   "source": [
    "from bitarray import bitarray\n",
    "class Codec():\n",
    "    def __init__(self, message=None, k=2):\n",
    "        if isinstance(message, bitarray) or message is None:\n",
    "            self._message = message\n",
    "        elif isinstance(message, str):\n",
    "            self._message = bitarray()\n",
    "            with open(message, 'rb') as fh:\n",
    "                self._message.fromfile(fh)\n",
    "        else:\n",
    "            ValueError('Expected bitarray or filepath.')\n",
    "        self._chunk_size = k\n",
    "        self._message_length = None\n",
    "        if self._message is not None:\n",
    "            self._message_length = len(self._message)\n",
    "    \n",
    "    def encode(self, out_path):\n",
    "        \"\"\"Encode file in text in self._chunk_size'd chunks.\n",
    "        \"\"\"\n",
    "        if self._message is None:\n",
    "            ValueError('This instance of the codec was not initialized with a message.')\n",
    "        chunks = [self._message[i:i+self._chunk_size] for i in range(0, self._message_length - self._chunk_size + 1, self._chunk_size)]\n",
    "        enc_text = sample_vocab[np.argmax(sample_from_lm(seed=0))] + ' '\n",
    "        for i in range(len(chunks)):\n",
    "            rankings = np.argsort(sample_from_lm(seed=i+1))\n",
    "            chunk_to_decimal = int(chunks[i].to01(), base=2)\n",
    "            enc_text += (sample_vocab[rankings[chunk_to_decimal]] + ' ')\n",
    "        with open(out_path, 'w') as fh:\n",
    "            fh.write(enc_text)\n",
    "        return enc_text\n",
    "\n",
    "    def decode(self, in_path, out_path, message_length=None):\n",
    "        \"\"\"Decode file from text. \n",
    "        \"\"\"\n",
    "        if message_length is None and self._message_length is None:\n",
    "            ValueError('Message length not provided.')\n",
    "        if message_length is not None:\n",
    "            self._message_length = message_length\n",
    "        with open(in_path, 'r') as fh:\n",
    "            enc_text = fh.read()\n",
    "        bits = bitarray()\n",
    "        splits = enc_text.split(' ')\n",
    "        context = splits[0]\n",
    "        splits = splits[1:-1]\n",
    "        for i in range(len(splits)):\n",
    "            rankings = np.argsort(sample_from_lm(seed=i+1)).tolist()\n",
    "            idx = sample_vocab.index(splits[i])\n",
    "            chunk = rankings.index(idx)\n",
    "            bits.extend(bin(chunk)[2:].zfill(self._chunk_size))\n",
    "        with open(out_path, 'wb') as fh:\n",
    "            bits.tofile(fh)\n",
    "        return bits\n",
    "            "
   ]
  },
  {
   "cell_type": "code",
   "execution_count": 6,
   "metadata": {},
   "outputs": [],
   "source": [
    "c = Codec('secret_message')\n",
    "encoded = c.encode('secret.enc')\n",
    "decoded = c.decode('secret.enc', 'secret.dec', 0)"
   ]
  }
 ],
 "metadata": {
  "kernelspec": {
   "display_name": "Python 3",
   "language": "python",
   "name": "python3"
  },
  "language_info": {
   "codemirror_mode": {
    "name": "ipython",
    "version": 3
   },
   "file_extension": ".py",
   "mimetype": "text/x-python",
   "name": "python",
   "nbconvert_exporter": "python",
   "pygments_lexer": "ipython3",
   "version": "3.9.5"
  },
  "orig_nbformat": 4,
  "vscode": {
   "interpreter": {
    "hash": "93eade7cf67e4f1dbc8ebfc7ae79baf5635835b9979becbc798f51ae961f5c71"
   }
  }
 },
 "nbformat": 4,
 "nbformat_minor": 2
}
