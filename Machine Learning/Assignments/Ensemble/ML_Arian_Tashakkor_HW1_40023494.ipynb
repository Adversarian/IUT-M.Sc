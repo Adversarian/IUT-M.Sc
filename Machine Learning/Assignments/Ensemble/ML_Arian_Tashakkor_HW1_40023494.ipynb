{
  "nbformat": 4,
  "nbformat_minor": 0,
  "metadata": {
    "colab": {
      "name": "ML_Arian_Tashakkor_HW1_40023494.ipynb",
      "provenance": [],
      "collapsed_sections": [
        "Zr5LkJiBXHpT",
        "2vmhhm1Jwm3p",
        "biPA7b4U1QNt",
        "NYFoNTdMWzPE",
        "es6OWocXbwyr"
      ]
    },
    "kernelspec": {
      "name": "python3",
      "display_name": "Python 3"
    },
    "language_info": {
      "name": "python"
    }
  },
  "cells": [
    {
      "cell_type": "markdown",
      "source": [
        "**Arian Tashakkor - 40023494 (Coding section of the first ML4002 assignment)**\n",
        "# Problem 1"
      ],
      "metadata": {
        "id": "Zr5LkJiBXHpT"
      }
    },
    {
      "cell_type": "markdown",
      "source": [
        "###a. Sample generation and plotting"
      ],
      "metadata": {
        "id": "L6IsJpl8bXlB"
      }
    },
    {
      "cell_type": "code",
      "execution_count": 1,
      "metadata": {
        "colab": {
          "base_uri": "https://localhost:8080/",
          "height": 265
        },
        "id": "3jbqQ3NFXBC7",
        "outputId": "365c4322-f975-4b1b-fb21-6c3ef4a7e869"
      },
      "outputs": [
        {
          "output_type": "display_data",
          "data": {
            "text/plain": [
              "<Figure size 432x288 with 1 Axes>"
            ],
            "image/png": "[encoded data removed]"
          },
          "metadata": {
            "needs_background": "light"
          }
        }
      ],
      "source": [
        "import numpy as np\n",
        "from matplotlib import pyplot as plt\n",
        "\n",
        "# Parameters of the Gaussian distributions\n",
        "mu1 = [-3, 5]\n",
        "sigma1 = [[2, 1], [1, 3]]\n",
        "mu2 = [3, 5]\n",
        "sigma2 = [[2, -1], [-1, 3]]\n",
        "\n",
        "# Draw 30 samples from the first Gaussian and 40 samples from the second Gaussian\n",
        "s1 = np.random.multivariate_normal(mu1, sigma1, 30)\n",
        "s2 = np.random.multivariate_normal(mu2, sigma2, 40)\n",
        "\n",
        "# Scatter plot of the drawn samples\n",
        "plt.scatter(s1[:, 0], s1[:, 1], color='blue')\n",
        "plt.scatter(s2[:, 0], s2[:, 1], color='red')\n",
        "plt.show()"
      ]
    },
    {
      "cell_type": "markdown",
      "source": [
        "###b. Calculating probabilties"
      ],
      "metadata": {
        "id": "lXMGkgmHbNqc"
      }
    },
    {
      "cell_type": "markdown",
      "source": [
        "First we will define a function to calculate the multivariate pdf given x.\n",
        "\n",
        "mvnpdf(x, mu, sigma): $$\\frac{1}{\\sqrt{(2\\pi)^l |\\Sigma|}}e^{(-\\frac{1}{2}(x - \\mu)^T\\Sigma^{-1}(x-\\mu))} $$\n"
      ],
      "metadata": {
        "id": "kWCez_otdIEB"
      }
    },
    {
      "cell_type": "code",
      "source": [
        "def mvnpdf(x, mu, sigma):\n",
        "  l = np.shape(x)[0]\n",
        "  coeff = 1/(np.sqrt(((2*np.pi)**l)*np.linalg.det(sigma)))\n",
        "  power = (-1/2)*np.transpose(x - mu)@np.linalg.inv(sigma)@(x - mu)\n",
        "  return coeff*np.exp(power)"
      ],
      "metadata": {
        "id": "YKnC_dLYdPDK"
      },
      "execution_count": 2,
      "outputs": []
    },
    {
      "cell_type": "code",
      "source": [
        "# P(C0) corresponding to s1\n",
        "p = {}\n",
        "p['C0'] = len(s1)/(len(s1) + len(s2))\n",
        "print(f\"P(C0): {p['C0']}\")\n",
        "\n",
        "# P(C1) corresponding to s2\n",
        "p['C1'] = len(s2)/(len(s1) + len(s2))\n",
        "print(f\"P(C1): {p['C1']}\")\n",
        "\n",
        "# Conditional probabilties\n",
        "p['X|C0'] = 0\n",
        "for x in s1:\n",
        "  p['X|C0'] += mvnpdf(x, mu1, sigma1)\n",
        "p['X|C0'] = p['X|C0']/len(s1)\n",
        "print(f\"P(X|C0): {p['X|C0']}\")\n",
        "\n",
        "p['X|C1'] = 0\n",
        "for x in s2:\n",
        "  p['X|C1'] += mvnpdf(x, mu2, sigma2)\n",
        "p['X|C1'] = p['X|C1']/len(s2)\n",
        "print(f\"P(X|C1): {p['X|C1']}\")\n",
        "\n",
        "# Likelihood of each sample individually\n",
        "p['X'] = p['C0']*p['X|C0'] + p['C1']*p['X|C1']\n",
        "print(f\"P(X): {p['X']}\")\n",
        "\n"
      ],
      "metadata": {
        "colab": {
          "base_uri": "https://localhost:8080/"
        },
        "id": "A8crxKhbbEOB",
        "outputId": "33028705-70d4-4229-96ec-dd0ce7efb583"
      },
      "execution_count": 3,
      "outputs": [
        {
          "output_type": "stream",
          "name": "stdout",
          "text": [
            "P(C0): 0.42857142857142855\n",
            "P(C1): 0.5714285714285714\n",
            "P(X|C0): 0.02882003210967909\n",
            "P(X|C1): 0.0320874048896758\n",
            "P(X): 0.03068710226967721\n"
          ]
        }
      ]
    },
    {
      "cell_type": "markdown",
      "source": [
        "We know that the MLE estimate for a presumed Gaussian distribution is:\n",
        "$$\\hat\\mu = \\frac{1}{N}\\sum_{i=1}^{N}x_i, \\hat\\Sigma = \\frac{1}{N}\\sum_{i=1}^{N}(x_i - \\hat\\mu)(x_i - \\hat\\mu)^T$$\n",
        "\n",
        "With this, we can model $P(X)$, $P(X|C0)$ and $P(X|C1)$ with Gaussian distributions.\n"
      ],
      "metadata": {
        "id": "GFLUe2BXnG5Y"
      }
    },
    {
      "cell_type": "code",
      "source": [
        "# MLE for P(X)\n",
        "mu_x = np.mean(np.vstack([s1, s2]), axis=0)\n",
        "sigma_x = np.cov(np.vstack([s1, s2]), rowvar=False)\n",
        "\n",
        "# MLE for P(X|C0)\n",
        "mu_c0 = np.mean(s1, axis=0)\n",
        "sigma_c0 = np.cov(s1, rowvar=False)\n",
        "\n",
        "# MLE for P(X|C1)\n",
        "mu_c1 = np.mean(s2, axis=0)\n",
        "sigma_c1 = np.cov(s2, rowvar=False)"
      ],
      "metadata": {
        "id": "1YGfCvFes7zR"
      },
      "execution_count": 4,
      "outputs": []
    },
    {
      "cell_type": "markdown",
      "source": [
        "###c. Performing classification using MLE estimates\n"
      ],
      "metadata": {
        "id": "U3LVcq0dwWbc"
      }
    },
    {
      "cell_type": "code",
      "source": [
        "test1 = np.random.multivariate_normal(mu1, sigma1, 3)\n",
        "test2 = np.random.multivariate_normal(mu2, sigma2, 3)\n",
        "\n",
        "misclassifications = 0\n",
        "print('Testing samples from class 1:')\n",
        "for x in test1:\n",
        "  # discriminant functions\n",
        "  g0 = mvnpdf(x, mu_c0, sigma_c0)\n",
        "  g1 = mvnpdf(x, mu_c1, sigma_c1)\n",
        "  print(f'g0: {g0}, g1: {g1}')\n",
        "  if g0 > g1:\n",
        "    print('Correct classfication.')\n",
        "  else:\n",
        "    print('Misclassification.')\n",
        "    misclassifications += 1\n",
        "for x in test2:\n",
        "  g0 = mvnpdf(x, mu_c0, sigma_c0)\n",
        "  g1 = mvnpdf(x, mu_c1, sigma_c1)\n",
        "  print(f'g0: {g0}, g1: {g1}')\n",
        "  if g0 < g1:\n",
        "    print('Correct classfication.')\n",
        "  else:\n",
        "    print('Misclassification.')\n",
        "    misclassifications += 1  \n",
        "print(f'Error rate: {misclassifications/6}')\n"
      ],
      "metadata": {
        "id": "ITxTDbFuweDj",
        "colab": {
          "base_uri": "https://localhost:8080/"
        },
        "outputId": "ffff9b40-98f9-4880-b662-8ba026e7859d"
      },
      "execution_count": 5,
      "outputs": [
        {
          "output_type": "stream",
          "name": "stdout",
          "text": [
            "Testing samples from class 1:\n",
            "g0: 0.06018490454053954, g1: 0.00013208523022367966\n",
            "Correct classfication.\n",
            "g0: 0.0012097395130350182, g1: 6.385532062431545e-05\n",
            "Correct classfication.\n",
            "g0: 0.053708564430933026, g1: 0.00045760409537081673\n",
            "Correct classfication.\n",
            "g0: 8.469324814092037e-05, g1: 0.0272614276099637\n",
            "Correct classfication.\n",
            "g0: 1.0842934385362458e-13, g1: 0.014261643695561179\n",
            "Correct classfication.\n",
            "g0: 2.590996788905365e-09, g1: 0.03875598569273107\n",
            "Correct classfication.\n",
            "Error rate: 0.0\n"
          ]
        }
      ]
    },
    {
      "cell_type": "markdown",
      "source": [
        "#Problem 2"
      ],
      "metadata": {
        "id": "2vmhhm1Jwm3p"
      }
    },
    {
      "cell_type": "code",
      "source": [
        "!gdown --fuzzy https://drive.google.com/file/d/105XlHeD5I_nhA1DkCrhnmd-_ky3o7L3E/view?usp=sharing"
      ],
      "metadata": {
        "colab": {
          "base_uri": "https://localhost:8080/"
        },
        "id": "uDK6hHADGY3o",
        "outputId": "851e2ebb-4b09-4996-9794-329de4786351"
      },
      "execution_count": 6,
      "outputs": [
        {
          "output_type": "stream",
          "name": "stdout",
          "text": [
            "Downloading...\n",
            "From: https://drive.google.com/uc?id=105XlHeD5I_nhA1DkCrhnmd-_ky3o7L3E\n",
            "To: /content/data.zip\n",
            "\r  0% 0.00/15.1k [00:00<?, ?B/s]\r100% 15.1k/15.1k [00:00<00:00, 20.7MB/s]\n"
          ]
        }
      ]
    },
    {
      "cell_type": "code",
      "source": [
        "!unzip data.zip"
      ],
      "metadata": {
        "colab": {
          "base_uri": "https://localhost:8080/"
        },
        "id": "B0iBgfjMxbem",
        "outputId": "60bbcff3-56e0-41a8-e62c-49a8d9c101a9"
      },
      "execution_count": 7,
      "outputs": [
        {
          "output_type": "stream",
          "name": "stdout",
          "text": [
            "Archive:  data.zip\n",
            "   creating: data/\n",
            "   creating: data/data3/\n",
            "  inflating: data/data3/data3_test.csv  \n",
            "  inflating: data/data3/data3_train.csv  \n",
            "  inflating: data/data3/data3_validation.csv  \n",
            "   creating: data/data4/\n",
            "  inflating: data/data4/data4_test.csv  \n",
            "  inflating: data/data4/data4_train.csv  \n",
            "  inflating: data/data4/data4_validation.csv  \n",
            "  inflating: data/insurance.csv      \n"
          ]
        }
      ]
    },
    {
      "cell_type": "markdown",
      "source": [
        "In the following sections, two cost functions will be employed in the Gradient Descent method. We will introduce both of them here.Note that we will augment the dataset with a column of 1's, indicating the bias feature ($x_0$).\n",
        "\n",
        "We know that a linear regression is in the form of:\n",
        "$$\\hat y = \\sum_{i=0}^{n}w_ix_i = w_0x_0 + w_1x_1 + \\cdots + w_nx_n$$\n",
        "Where $w_i$s depict the weights of the linear regression model.\n",
        "\n",
        "- MSE (Mean Squared Error):\n",
        "$$MSE=\\frac{1}{n}\\sum_{i=1}^{n}(\\hat y_i - y_i)^2$$\n",
        "Substituting $\\hat y$ we have:\n",
        "$$MSE = \\frac{1}{n}\\sum_{i=1}^{n}(\\sum_{j=0}^{m}w_jx_j^{(i)} - y_i)^2$$\n",
        "In order to update each of the $w_k$s we need to take the derivative of this loss function w.r.t. to that $w_k$:\n",
        "$$\\frac{\\partial(MSE)}{\\partial w_k} = \\frac{2}{n}\\sum_{i=1}^{n}x_k^{(i)}(\\sum_{j=0}^{m}w_jx_j^{(i)} - y_i)$$\n",
        "At the end of each epoch the update rule will be:\n",
        "$$ \\forall k\\in\\{0, 1, \\cdots, n\\}, w_k = w_k - \\alpha*\\frac{\\partial(MSE)}{\\partial w_k}$$\n",
        "For some small $\\alpha$.\n",
        "\n",
        "- MAE (Mean Absolute Error):\n",
        "$$MAE=\\frac{1}{n}\\sum_{i=1}^{n}|\\hat y_i - y_i|$$\n",
        "Substituting $\\hat y$ we have:\n",
        "$$MAE=\\frac{1}{n}\\sum_{i=1}^{n}|\\sum_{j=0}^{m}w_jx_j^{(i)} - y_i|$$\n",
        "In order to update each of the $w_k$s we need to take the derivative of this loss function w.r.t. to that $w_k$. However MAE is not globally differentiable. More accurately, it is precisely not differentiable at the point where $|\\sum_{i=0}^{n}w_ix_i - y_i| = 0$. At such points we will use the mean of the left and right subderivatives (which is 0). (*This makes sense because if $y_{true} = y_{pred}$ then the weights for that particular instance are working perfectly and hence should not be subject to change. This should not, however happen often at all because the zero equality case is extremely unlikely*):\n",
        "$$\\frac{\\partial(MAE)}{\\partial w_k}=\n",
        "\\begin{cases}\n",
        "\\frac{1}{n}\\sum_{i=1}^{n}x_k^{(i)}, & \\text{for } |\\sum_{j=0}^{m}w_jx_j^{(i)} - y_i| > 0 \\\\\n",
        "0, & \\text{for } |\\sum_{j=0}^{m}w_jx_j^{(i)} - y_i| = 0 \\\\\n",
        "-\\frac{1}{n}\\sum_{i=1}^{n}x_k^{(i)}, & \\text{for } |\\sum_{j=0}^{m}w_jx_j^{(i)} - y_i| < 0\n",
        "\\end{cases}$$\n",
        "At the end of each epoch the update rule will be:\n",
        "$$ \\forall k\\in\\{0, 1, \\cdots, n\\}, w_k = w_k - \\alpha*\\frac{\\partial(MAE)}{\\partial w_k}$$\n",
        "For some small $\\alpha$.\n",
        "\n",
        "Below we will implement the helper functions that we will need along the way for the upcoming sections."
      ],
      "metadata": {
        "id": "fICOXpme1fqg"
      }
    },
    {
      "cell_type": "markdown",
      "source": [
        "We will need functions for MSE, MAE and their gradients in order to perform Gradient Descent. We will use the vectorized formulation of GD in order to simplify the code and speed-up the process.\n"
      ],
      "metadata": {
        "id": "sUJnCj3zZtXy"
      }
    },
    {
      "cell_type": "code",
      "source": [
        "class MSE:\n",
        "  def __init__(self, y_true=None, weights=None, x=None):\n",
        "    self._y_true = y_true\n",
        "    self._weights = weights\n",
        "    self._x = x\n",
        "    if x is not None and weights is not None:\n",
        "      self._y_pred = x@weights\n",
        "      self._n = len(x)\n",
        "\n",
        "  def update_state(self, y_true, weights, x):\n",
        "    self._y_true = y_true\n",
        "    self._weights = weights\n",
        "    self._x = x\n",
        "    self._y_pred = x@weights\n",
        "    self._n = len(x)\n",
        "\n",
        "\n",
        "  def loss(self):\n",
        "    return np.mean(np.square(self._y_pred - self._y_true))\n",
        "\n",
        "  def gradients(self):\n",
        "    # vectorized notation\n",
        "    return (2/self._n)*self._x.T@(self._y_pred - self._y_true)"
      ],
      "metadata": {
        "id": "GHpiELnqZssN"
      },
      "execution_count": 8,
      "outputs": []
    },
    {
      "cell_type": "code",
      "source": [
        "class MAE:\n",
        "  def __init__(self, y_true=None, weights=None, x=None):\n",
        "    self._y_true = y_true\n",
        "    self._weights = weights\n",
        "    self._x = x\n",
        "    # keeping the occurances special cases\n",
        "    self.sc = 0\n",
        "    if x is not None and weights is not None:\n",
        "      self._y_pred = x@weights\n",
        "      self._n = len(x)\n",
        "\n",
        "  def update_state(self, y_true, weights, x):\n",
        "    self._y_true = y_true\n",
        "    self._weights = weights\n",
        "    self._x = x\n",
        "    self._y_pred = x@weights\n",
        "    self._n = len(x)\n",
        "    \n",
        "  def loss(self):\n",
        "    return np.mean(np.abs(self._y_pred - self._y_true))\n",
        "\n",
        "  def gradients(self):\n",
        "    # because there are special cases we cannot use the vectorized notation here\n",
        "    error = self._y_pred - self._y_true\n",
        "    coeffs = np.zeros_like(error)\n",
        "    coeffs[np.where(error < 0)] = -1\n",
        "    coeffs[np.where(error > 0)] = 1\n",
        "    # number of special cases\n",
        "    self.sc += np.count_nonzero(error == 0)\n",
        "    return (1/self._n)*self._x.T@(coeffs)"
      ],
      "metadata": {
        "id": "n8_kM4q6e2q9"
      },
      "execution_count": 9,
      "outputs": []
    },
    {
      "cell_type": "markdown",
      "source": [
        "And an auxiliary function to help us with batch generation:"
      ],
      "metadata": {
        "id": "iewjaRWj_xOK"
      }
    },
    {
      "cell_type": "code",
      "source": [
        "def batch_gen(X, y, batch_size=1):\n",
        "  if batch_size > len(X):\n",
        "    print('Batch size greater than possible maximum. Setting to max instead.')\n",
        "    batch_size = len(X)\n",
        "  num_batches = int(np.ceil(len(X)/batch_size))\n",
        "  for i in range(num_batches):\n",
        "    start_idx = batch_size * i\n",
        "    end_idx = min(start_idx + batch_size, len(X))\n",
        "    yield X[start_idx:end_idx, :], np.reshape(y[start_idx:end_idx], (-1, 1))"
      ],
      "metadata": {
        "id": "cgjq6C0P_xAh"
      },
      "execution_count": 10,
      "outputs": []
    },
    {
      "cell_type": "markdown",
      "source": [
        "Finally we are ready to implement the Gradient Descent method:"
      ],
      "metadata": {
        "id": "CHJItBAQkLrc"
      }
    },
    {
      "cell_type": "code",
      "source": [
        "from tqdm import tqdm\n",
        "from time import perf_counter\n",
        "def gradient_descent(X, y, lr, epochs, loss_obj, batch_size=1):\n",
        "  # start timing\n",
        "  tic = perf_counter()\n",
        "  # use batch_size = 1 for SGD, batch_size = len(X) for Batch GD and anything in\n",
        "  # between for Mini Batch GD.\n",
        "  # augment X by adding a column corresponding to x_0\n",
        "  X = np.hstack([np.ones([len(X), 1]), X])\n",
        "  # keep a history of losses for plots\n",
        "  loss_hist = []\n",
        "  # initialize random weights from the standard normal distribution\n",
        "  weights = np.random.randn(len(X[0]), 1)\n",
        "  for i in tqdm(range(epochs)):\n",
        "    for x_batch, y_batch in batch_gen(X, y, batch_size=batch_size):\n",
        "      # update the state of the loss object for each batch\n",
        "      loss_obj.update_state(y_batch, weights, x_batch)\n",
        "      # perform update\n",
        "      weights -= lr*loss_obj.gradients()\n",
        "      loss_hist.append(loss_obj.loss())\n",
        "    # append loss value to history\n",
        "    print(f'Loss at the end of epoch {i}: {loss_hist[len(loss_hist)-1]}')\n",
        "  # stop timing\n",
        "  toc = perf_counter()\n",
        "  print(f'Gradient Descent with batch size: {batch_size} and learning rate: {lr} finished {epochs} epochs in {toc-tic} seconds.')\n",
        "  plt.plot(np.arange(0,len(loss_hist)), loss_hist, color = 'red')\n",
        "  plt.title('Loss function Graph')\n",
        "  plt.xlabel('Update Steps')\n",
        "  plt.ylabel('Loss')\n",
        "  plt.show()\n",
        "  return weights"
      ],
      "metadata": {
        "id": "qVyw6iFKkH9j"
      },
      "execution_count": 11,
      "outputs": []
    },
    {
      "cell_type": "markdown",
      "source": [
        "###a. and b. GD with different batch sizes\n",
        "We will use SGD, GD and Mini-batch GD on insurance.csv data and compare their performance. In order to be able to make a fair comparison every instance will train with $lr = 10^{-5}$ and in $50$ epochs.\n"
      ],
      "metadata": {
        "id": "biPA7b4U1QNt"
      }
    },
    {
      "cell_type": "code",
      "source": [
        "# loading in the dataset\n",
        "dataset = np.loadtxt('data/insurance.csv', skiprows=1, delimiter=',')\n",
        "X = dataset[:,:3]\n",
        "y_true = dataset[:,3]\n",
        "lr = 1e-5\n",
        "epochs = 50"
      ],
      "metadata": {
        "id": "WOAJDDAYJvNk"
      },
      "execution_count": 12,
      "outputs": []
    },
    {
      "cell_type": "markdown",
      "source": [
        "1. SGD: performed by setting batch_size to 1."
      ],
      "metadata": {
        "id": "-XgYd80PBZk1"
      }
    },
    {
      "cell_type": "code",
      "source": [
        "gradient_descent(X, y_true, lr, epochs, MSE(), batch_size=1)"
      ],
      "metadata": {
        "colab": {
          "base_uri": "https://localhost:8080/",
          "height": 1000
        },
        "id": "i4su-PuUBh0z",
        "outputId": "0edd0692-91e6-4042-8a1c-75428cd1c665"
      },
      "execution_count": 13,
      "outputs": [
        {
          "output_type": "stream",
          "name": "stderr",
          "text": [
            " 10%|█         | 5/50 [00:00<00:01, 23.67it/s]"
          ]
        },
        {
          "output_type": "stream",
          "name": "stdout",
          "text": [
            "Loss at the end of epoch 0: 160073443.19598114\n",
            "Loss at the end of epoch 1: 161645103.91092494\n",
            "Loss at the end of epoch 2: 162222017.70182723\n",
            "Loss at the end of epoch 3: 162686231.99622\n",
            "Loss at the end of epoch 4: 163124177.45704436\n",
            "Loss at the end of epoch 5: 163544802.12454793\n"
          ]
        },
        {
          "output_type": "stream",
          "name": "stderr",
          "text": [
            " 22%|██▏       | 11/50 [00:00<00:01, 25.43it/s]"
          ]
        },
        {
          "output_type": "stream",
          "name": "stdout",
          "text": [
            "Loss at the end of epoch 6: 163949508.88006815\n",
            "Loss at the end of epoch 7: 164338950.05205664\n",
            "Loss at the end of epoch 8: 164713687.7609558\n",
            "Loss at the end of epoch 9: 165074258.51412386\n",
            "Loss at the end of epoch 10: 165421179.9445034\n",
            "Loss at the end of epoch 11: 165754951.92726168\n"
          ]
        },
        {
          "output_type": "stream",
          "name": "stderr",
          "text": [
            " 34%|███▍      | 17/50 [00:00<00:01, 25.41it/s]"
          ]
        },
        {
          "output_type": "stream",
          "name": "stdout",
          "text": [
            "Loss at the end of epoch 12: 166076057.14569202\n",
            "Loss at the end of epoch 13: 166384961.59799516\n",
            "Loss at the end of epoch 14: 166682115.09197688\n",
            "Loss at the end of epoch 15: 166967951.7316305\n",
            "Loss at the end of epoch 16: 167242890.3954733\n",
            "Loss at the end of epoch 17: 167507335.20619312\n"
          ]
        },
        {
          "output_type": "stream",
          "name": "stderr",
          "text": [
            " 46%|████▌     | 23/50 [00:00<00:01, 26.17it/s]"
          ]
        },
        {
          "output_type": "stream",
          "name": "stdout",
          "text": [
            "Loss at the end of epoch 18: 167761675.99119854\n",
            "Loss at the end of epoch 19: 168006288.73373526\n",
            "Loss at the end of epoch 20: 168241536.0142988\n",
            "Loss at the end of epoch 21: 168467767.44212812\n",
            "Loss at the end of epoch 22: 168685320.07662213\n",
            "Loss at the end of epoch 23: 168894518.83856404\n"
          ]
        },
        {
          "output_type": "stream",
          "name": "stderr",
          "text": [
            " 58%|█████▊    | 29/50 [00:01<00:00, 25.65it/s]"
          ]
        },
        {
          "output_type": "stream",
          "name": "stdout",
          "text": [
            "Loss at the end of epoch 24: 169095676.91108638\n",
            "Loss at the end of epoch 25: 169289096.13034335\n",
            "Loss at the end of epoch 26: 169475067.3658896\n",
            "Loss at the end of epoch 27: 169653870.89080277\n",
            "Loss at the end of epoch 28: 169825776.74160242\n",
            "Loss at the end of epoch 29: 169991045.0680509\n"
          ]
        },
        {
          "output_type": "stream",
          "name": "stderr",
          "text": [
            " 70%|███████   | 35/50 [00:01<00:00, 25.07it/s]"
          ]
        },
        {
          "output_type": "stream",
          "name": "stdout",
          "text": [
            "Loss at the end of epoch 30: 170149926.47293666\n",
            "Loss at the end of epoch 31: 170302662.34196147\n",
            "Loss at the end of epoch 32: 170449485.16386712\n",
            "Loss at the end of epoch 33: 170590618.84094983\n",
            "Loss at the end of epoch 34: 170726278.99012655\n",
            "Loss at the end of epoch 35: 170856673.23472095\n"
          ]
        },
        {
          "output_type": "stream",
          "name": "stderr",
          "text": [
            " 82%|████████▏ | 41/50 [00:01<00:00, 25.03it/s]"
          ]
        },
        {
          "output_type": "stream",
          "name": "stdout",
          "text": [
            "Loss at the end of epoch 36: 170982001.4871493\n",
            "Loss at the end of epoch 37: 171102456.22269136\n",
            "Loss at the end of epoch 38: 171218222.74453977\n",
            "Loss at the end of epoch 39: 171329479.44031957\n",
            "Loss at the end of epoch 40: 171436398.0302799\n",
            "Loss at the end of epoch 41: 171539143.80735734\n"
          ]
        },
        {
          "output_type": "stream",
          "name": "stderr",
          "text": [
            " 94%|█████████▍| 47/50 [00:01<00:00, 25.42it/s]"
          ]
        },
        {
          "output_type": "stream",
          "name": "stdout",
          "text": [
            "Loss at the end of epoch 42: 171637875.86931276\n",
            "Loss at the end of epoch 43: 171732747.34314707\n",
            "Loss at the end of epoch 44: 171823905.60199633\n",
            "Loss at the end of epoch 45: 171911492.47470954\n",
            "Loss at the end of epoch 46: 171995644.44831178\n",
            "Loss at the end of epoch 47: 172076492.86355174\n"
          ]
        },
        {
          "output_type": "stream",
          "name": "stderr",
          "text": [
            "100%|██████████| 50/50 [00:01<00:00, 25.15it/s]\n"
          ]
        },
        {
          "output_type": "stream",
          "name": "stdout",
          "text": [
            "Loss at the end of epoch 48: 172154164.1037292\n",
            "Loss at the end of epoch 49: 172228779.77700296\n",
            "Gradient Descent with batch size: 1 and learning rate: 1e-05 finished 50 epochs in 2.0088893870000035 seconds.\n"
          ]
        },
        {
          "output_type": "display_data",
          "data": {
            "text/plain": [
              "<Figure size 432x288 with 1 Axes>"
            ],
            "image/png": "[encoded data removed]"
          },
          "metadata": {
            "needs_background": "light"
          }
        },
        {
          "output_type": "execute_result",
          "data": {
            "text/plain": [
              "array([[-272.70622187],\n",
              "       [ 195.73760842],\n",
              "       [ 190.89103651],\n",
              "       [ 320.75860951]])"
            ]
          },
          "metadata": {},
          "execution_count": 13
        }
      ]
    },
    {
      "cell_type": "markdown",
      "source": [
        "As we can observe, and especially because we're working with unnormalized data that are in severely different scales, SGD performs extremely poorly. Each instance of data tries to carry the the entirety of the weights towards optimizing for itself which creates a highly volatile, fluctuating pattern."
      ],
      "metadata": {
        "id": "jOTnilLmB77r"
      }
    },
    {
      "cell_type": "markdown",
      "source": [
        "2. GD: performed by setting batch_size = len(X)."
      ],
      "metadata": {
        "id": "NM9pILSCCV3H"
      }
    },
    {
      "cell_type": "code",
      "source": [
        "gradient_descent(X, y_true, lr, epochs, MSE(), batch_size=len(X))"
      ],
      "metadata": {
        "colab": {
          "base_uri": "https://localhost:8080/",
          "height": 1000
        },
        "id": "ml-jCqtLCdzJ",
        "outputId": "c2121ff9-d3fd-4f8e-e1d8-7019ec23c3c9"
      },
      "execution_count": 14,
      "outputs": [
        {
          "output_type": "stream",
          "name": "stderr",
          "text": [
            "100%|██████████| 50/50 [00:00<00:00, 1486.34it/s]\n"
          ]
        },
        {
          "output_type": "stream",
          "name": "stdout",
          "text": [
            "Loss at the end of epoch 0: 321744500.1374766\n",
            "Loss at the end of epoch 1: 302194424.9687324\n",
            "Loss at the end of epoch 2: 284644957.63994026\n",
            "Loss at the end of epoch 3: 268891370.1295904\n",
            "Loss at the end of epoch 4: 254749884.83267555\n",
            "Loss at the end of epoch 5: 242055530.64336103\n",
            "Loss at the end of epoch 6: 230660218.43097818\n",
            "Loss at the end of epoch 7: 220431013.45818308\n",
            "Loss at the end of epoch 8: 211248584.587612\n",
            "Loss at the end of epoch 9: 203005812.18575063\n",
            "Loss at the end of epoch 10: 195606538.48406768\n",
            "Loss at the end of epoch 11: 188964445.81934497\n",
            "Loss at the end of epoch 12: 183002049.66695142\n",
            "Loss at the end of epoch 13: 177649794.7199644\n",
            "Loss at the end of epoch 14: 172845243.4691556\n",
            "Loss at the end of epoch 15: 168532347.81795746\n",
            "Loss at the end of epoch 16: 164660795.2351982\n",
            "Loss at the end of epoch 17: 161185421.81793797\n",
            "Loss at the end of epoch 18: 158065685.41729945\n",
            "Loss at the end of epoch 19: 155265192.68087193\n",
            "Loss at the end of epoch 20: 152751274.49424776\n",
            "Loss at the end of epoch 21: 150494604.8688668\n",
            "Loss at the end of epoch 22: 148468858.8301814\n",
            "Loss at the end of epoch 23: 146650405.31512457\n",
            "Loss at the end of epoch 24: 145018031.49627814\n",
            "Loss at the end of epoch 25: 143552695.3167536\n",
            "Loss at the end of epoch 26: 142237303.34890187\n",
            "Loss at the end of epoch 27: 141056511.3853903\n",
            "Loss at the end of epoch 28: 139996545.43637738\n",
            "Loss at the end of epoch 29: 139045041.0445694\n",
            "Loss at the end of epoch 30: 138190899.04363713\n",
            "Loss at the end of epoch 31: 137424156.07729465\n",
            "Loss at the end of epoch 32: 136735868.36853972\n",
            "Loss at the end of epoch 33: 136118007.38312694\n",
            "Loss at the end of epoch 34: 135563366.17010275\n",
            "Loss at the end of epoch 35: 135065475.2867869\n",
            "Loss at the end of epoch 36: 134618527.32739663\n",
            "Loss at the end of epoch 37: 134217309.17487668\n",
            "Loss at the end of epoch 38: 133857141.18559797\n",
            "Loss at the end of epoch 39: 133533822.59746338\n",
            "Loss at the end of epoch 40: 133243582.52456182\n",
            "Loss at the end of epoch 41: 132983035.96668229\n",
            "Loss at the end of epoch 42: 132749144.32050322\n",
            "Loss at the end of epoch 43: 132539179.93178673\n",
            "Loss at the end of epoch 44: 132350694.27505088\n",
            "Loss at the end of epoch 45: 132181489.38950862\n",
            "Loss at the end of epoch 46: 132029592.23805094\n",
            "Loss at the end of epoch 47: 131893231.69014974\n",
            "Loss at the end of epoch 48: 131770817.860168\n",
            "Loss at the end of epoch 49: 131660923.56004068\n",
            "Gradient Descent with batch size: 1338 and learning rate: 1e-05 finished 50 epochs in 0.04160568199999659 seconds.\n"
          ]
        },
        {
          "output_type": "display_data",
          "data": {
            "text/plain": [
              "<Figure size 432x288 with 1 Axes>"
            ],
            "image/png": "[encoded data removed]"
          },
          "metadata": {
            "needs_background": "light"
          }
        },
        {
          "output_type": "execute_result",
          "data": {
            "text/plain": [
              "array([[  4.96745389],\n",
              "       [202.4060737 ],\n",
              "       [150.1972579 ],\n",
              "       [  5.29466496]])"
            ]
          },
          "metadata": {},
          "execution_count": 14
        }
      ]
    },
    {
      "cell_type": "markdown",
      "source": [
        "As we observe, a much smoother curve of decreasing loss values appears in this plot because at each step we are taking the a step towards the expected globally optimal path and the loss value strictly decreases after each step. It performed faster than SGD and achieved a lower final loss value."
      ],
      "metadata": {
        "id": "kHNrjrHCDN0H"
      }
    },
    {
      "cell_type": "markdown",
      "source": [
        "3. Mini Batch GD: performed by setting batch_size to an arbitrary number between 1 and len(X), for example 300."
      ],
      "metadata": {
        "id": "Si4JONSrD7Q2"
      }
    },
    {
      "cell_type": "code",
      "source": [
        "gradient_descent(X, y_true, lr, epochs, MSE(), batch_size=300)"
      ],
      "metadata": {
        "colab": {
          "base_uri": "https://localhost:8080/",
          "height": 1000
        },
        "id": "2C2OhhyhEC-1",
        "outputId": "8fb17a91-b5a5-4f3b-bd57-9f4985000c53"
      },
      "execution_count": 15,
      "outputs": [
        {
          "output_type": "stream",
          "name": "stderr",
          "text": [
            "100%|██████████| 50/50 [00:00<00:00, 972.45it/s]\n"
          ]
        },
        {
          "output_type": "stream",
          "name": "stdout",
          "text": [
            "Loss at the end of epoch 0: 284490703.31641245\n",
            "Loss at the end of epoch 1: 232093359.25137356\n",
            "Loss at the end of epoch 2: 200569246.56300417\n",
            "Loss at the end of epoch 3: 181467019.8735674\n",
            "Loss at the end of epoch 4: 169790436.10939646\n",
            "Loss at the end of epoch 5: 162577847.2969472\n",
            "Loss at the end of epoch 6: 158067609.42692226\n",
            "Loss at the end of epoch 7: 155207285.86933407\n",
            "Loss at the end of epoch 8: 153364682.93179542\n",
            "Loss at the end of epoch 9: 152157456.25621855\n",
            "Loss at the end of epoch 10: 151352436.05649027\n",
            "Loss at the end of epoch 11: 150805993.6616667\n",
            "Loss at the end of epoch 12: 150428603.7062253\n",
            "Loss at the end of epoch 13: 150163698.0607769\n",
            "Loss at the end of epoch 14: 149974982.31665272\n",
            "Loss at the end of epoch 15: 149838778.97490898\n",
            "Loss at the end of epoch 16: 149739368.41357267\n",
            "Loss at the end of epoch 17: 149666126.65761438\n",
            "Loss at the end of epoch 18: 149611746.8904267\n",
            "Loss at the end of epoch 19: 149571119.6926697\n",
            "Loss at the end of epoch 20: 149540617.4405992\n",
            "Loss at the end of epoch 21: 149517629.45312488\n",
            "Loss at the end of epoch 22: 149500254.73839647\n",
            "Loss at the end of epoch 23: 149487095.2608854\n",
            "Loss at the end of epoch 24: 149477114.36878088\n",
            "Loss at the end of epoch 25: 149469538.1954286\n",
            "Loss at the end of epoch 26: 149463785.91112584\n",
            "Loss at the end of epoch 27: 149459419.6890183\n",
            "Loss at the end of epoch 28: 149456108.37285182\n",
            "Loss at the end of epoch 29: 149453600.81928468\n",
            "Loss at the end of epoch 30: 149451706.16882583\n",
            "Loss at the end of epoch 31: 149450279.14083365\n",
            "Loss at the end of epoch 32: 149449209.01034877\n",
            "Loss at the end of epoch 33: 149448411.3071106\n",
            "Loss at the end of epoch 34: 149447821.54191062\n",
            "Loss at the end of epoch 35: 149447390.451694\n",
            "Loss at the end of epoch 36: 149447080.38776377\n",
            "Loss at the end of epoch 37: 149446862.56755906\n",
            "Loss at the end of epoch 38: 149446714.98074192\n",
            "Loss at the end of epoch 39: 149446620.79216975\n",
            "Loss at the end of epoch 40: 149446567.1228764\n",
            "Loss at the end of epoch 41: 149446544.11902064\n",
            "Loss at the end of epoch 42: 149446544.24044207\n",
            "Loss at the end of epoch 43: 149446561.71682912\n",
            "Loss at the end of epoch 44: 149446592.13189563\n",
            "Loss at the end of epoch 45: 149446632.1053671\n",
            "Loss at the end of epoch 46: 149446679.0497295\n",
            "Loss at the end of epoch 47: 149446730.984142\n",
            "Loss at the end of epoch 48: 149446786.39206502\n",
            "Loss at the end of epoch 49: 149446844.1123264\n",
            "Gradient Descent with batch size: 300 and learning rate: 1e-05 finished 50 epochs in 0.06469227800000255 seconds.\n"
          ]
        },
        {
          "output_type": "display_data",
          "data": {
            "text/plain": [
              "<Figure size 432x288 with 1 Axes>"
            ],
            "image/png": "[encoded data removed]"
          },
          "metadata": {
            "needs_background": "light"
          }
        },
        {
          "output_type": "execute_result",
          "data": {
            "text/plain": [
              "array([[  4.0763314 ],\n",
              "       [217.63113148],\n",
              "       [163.88324861],\n",
              "       [  8.66839036]])"
            ]
          },
          "metadata": {},
          "execution_count": 15
        }
      ]
    },
    {
      "cell_type": "markdown",
      "source": [
        "Slight fluctations still occur for the same reason as discussed in the SGD section, however this algorithm converges to a very close loss value to GD, in comparable time and yet consumes only a fraction of the space complexity while maintaining a good time complexity as it still \n",
        "leverages vectorization.\n",
        "\n",
        "It is worth noting that although the time complexity of the GD algorithm is calculable in amortized analysis at best due to its random nature, it is expected that mini batch GD will run faster than full batch GD given a big a enough dataset while still converging to roughly the same results."
      ],
      "metadata": {
        "id": "gWqnR3reEefD"
      }
    },
    {
      "cell_type": "markdown",
      "source": [
        "###c. Special Cases on MAE\n",
        "We will run the same analysis using MAE and batch_size = 1. (We modify the lr and number of epochs due to the nature of MAE vs. MSE)."
      ],
      "metadata": {
        "id": "3g3DvMuBF-s3"
      }
    },
    {
      "cell_type": "markdown",
      "source": [
        "First, a proof of concept to show that the algorithm does in fact work (note that this loss value is incomparable to the MSE loss due to different scalings):"
      ],
      "metadata": {
        "id": "jF7fCH45IcFd"
      }
    },
    {
      "cell_type": "code",
      "source": [
        "gradient_descent(X, y_true, 0.01, 1000, MAE(), batch_size=len(X))"
      ],
      "metadata": {
        "colab": {
          "base_uri": "https://localhost:8080/",
          "height": 1000
        },
        "id": "9PzGfJbEGJ7I",
        "outputId": "03c21656-adbd-4ac9-ce5f-c6ed7397ae6f"
      },
      "execution_count": 16,
      "outputs": [
        {
          "output_type": "stream",
          "name": "stderr",
          "text": [
            " 21%|██        | 206/1000 [00:00<00:00, 1042.84it/s]"
          ]
        },
        {
          "output_type": "stream",
          "name": "stdout",
          "text": [
            "Loss at the end of epoch 0: 13194.009850450338\n",
            "Loss at the end of epoch 1: 13169.21351451434\n",
            "Loss at the end of epoch 2: 13144.417178578344\n",
            "Loss at the end of epoch 3: 13119.620842642342\n",
            "Loss at the end of epoch 4: 13094.824506706342\n",
            "Loss at the end of epoch 5: 13070.028170770345\n",
            "Loss at the end of epoch 6: 13045.231834834347\n",
            "Loss at the end of epoch 7: 13020.435498898347\n",
            "Loss at the end of epoch 8: 12995.639162962349\n",
            "Loss at the end of epoch 9: 12970.84282702635\n",
            "Loss at the end of epoch 10: 12946.046491090354\n",
            "Loss at the end of epoch 11: 12921.250155154352\n",
            "Loss at the end of epoch 12: 12896.453819218352\n",
            "Loss at the end of epoch 13: 12871.657483282353\n",
            "Loss at the end of epoch 14: 12846.861147346353\n",
            "Loss at the end of epoch 15: 12822.064811410357\n",
            "Loss at the end of epoch 16: 12797.268475474359\n",
            "Loss at the end of epoch 17: 12772.472139538359\n",
            "Loss at the end of epoch 18: 12747.67580360236\n",
            "Loss at the end of epoch 19: 12722.87946766636\n",
            "Loss at the end of epoch 20: 12698.083131730362\n",
            "Loss at the end of epoch 21: 12673.286795794365\n",
            "Loss at the end of epoch 22: 12648.490459858363\n",
            "Loss at the end of epoch 23: 12623.694123922367\n",
            "Loss at the end of epoch 24: 12598.897787986367\n",
            "Loss at the end of epoch 25: 12574.101452050369\n",
            "Loss at the end of epoch 26: 12549.30511611437\n",
            "Loss at the end of epoch 27: 12524.50878017837\n",
            "Loss at the end of epoch 28: 12499.712444242372\n",
            "Loss at the end of epoch 29: 12474.916108306372\n",
            "Loss at the end of epoch 30: 12450.119772370374\n",
            "Loss at the end of epoch 31: 12425.323436434373\n",
            "Loss at the end of epoch 32: 12400.527100498377\n",
            "Loss at the end of epoch 33: 12375.730764562377\n",
            "Loss at the end of epoch 34: 12350.934428626379\n",
            "Loss at the end of epoch 35: 12326.13809269038\n",
            "Loss at the end of epoch 36: 12301.34175675438\n",
            "Loss at the end of epoch 37: 12276.545420818382\n",
            "Loss at the end of epoch 38: 12251.749084882382\n",
            "Loss at the end of epoch 39: 12226.952748946385\n",
            "Loss at the end of epoch 40: 12202.156413010385\n",
            "Loss at the end of epoch 41: 12177.360077074387\n",
            "Loss at the end of epoch 42: 12152.563741138389\n",
            "Loss at the end of epoch 43: 12127.767405202389\n",
            "Loss at the end of epoch 44: 12102.97106926639\n",
            "Loss at the end of epoch 45: 12078.174733330392\n",
            "Loss at the end of epoch 46: 12053.378397394392\n",
            "Loss at the end of epoch 47: 12028.582061458394\n",
            "Loss at the end of epoch 48: 12003.785725522395\n",
            "Loss at the end of epoch 49: 11978.989389586395\n",
            "Loss at the end of epoch 50: 11954.213236011376\n",
            "Loss at the end of epoch 51: 11929.486661513914\n",
            "Loss at the end of epoch 52: 11904.760087016453\n",
            "Loss at the end of epoch 53: 11880.033512518992\n",
            "Loss at the end of epoch 54: 11855.306938021531\n",
            "Loss at the end of epoch 55: 11830.58036352407\n",
            "Loss at the end of epoch 56: 11805.854467979445\n",
            "Loss at the end of epoch 57: 11781.188283083593\n",
            "Loss at the end of epoch 58: 11756.539174961714\n",
            "Loss at the end of epoch 59: 11731.931579813263\n",
            "Loss at the end of epoch 60: 11707.323984664812\n",
            "Loss at the end of epoch 61: 11682.725553550268\n",
            "Loss at the end of epoch 62: 11658.17295908887\n",
            "Loss at the end of epoch 63: 11633.620364627472\n",
            "Loss at the end of epoch 64: 11609.092304646496\n",
            "Loss at the end of epoch 65: 11584.679526647982\n",
            "Loss at the end of epoch 66: 11560.333857781461\n",
            "Loss at the end of epoch 67: 11535.988188914936\n",
            "Loss at the end of epoch 68: 11511.648602478044\n",
            "Loss at the end of epoch 69: 11487.409184414488\n",
            "Loss at the end of epoch 70: 11463.240670928775\n",
            "Loss at the end of epoch 71: 11439.103034469148\n",
            "Loss at the end of epoch 72: 11414.965398009519\n",
            "Loss at the end of epoch 73: 11390.82776154989\n",
            "Loss at the end of epoch 74: 11366.703675614526\n",
            "Loss at the end of epoch 75: 11342.615388037753\n",
            "Loss at the end of epoch 76: 11318.543787530862\n",
            "Loss at the end of epoch 77: 11294.556283124786\n",
            "Loss at the end of epoch 78: 11270.622991339083\n",
            "Loss at the end of epoch 79: 11246.784046805278\n",
            "Loss at the end of epoch 80: 11222.997772839184\n",
            "Loss at the end of epoch 81: 11199.239742243712\n",
            "Loss at the end of epoch 82: 11175.513932877691\n",
            "Loss at the end of epoch 83: 11151.788123511677\n",
            "Loss at the end of epoch 84: 11128.100542903607\n",
            "Loss at the end of epoch 85: 11104.527925488568\n",
            "Loss at the end of epoch 86: 11081.054151909168\n",
            "Loss at the end of epoch 87: 11057.646954030244\n",
            "Loss at the end of epoch 88: 11034.339354168716\n",
            "Loss at the end of epoch 89: 11011.127273252272\n",
            "Loss at the end of epoch 90: 10988.065481459666\n",
            "Loss at the end of epoch 91: 10965.065749903071\n",
            "Loss at the end of epoch 92: 10942.066018346477\n",
            "Loss at the end of epoch 93: 10919.086051180318\n",
            "Loss at the end of epoch 94: 10896.142330634959\n",
            "Loss at the end of epoch 95: 10873.200821355435\n",
            "Loss at the end of epoch 96: 10850.311450767744\n",
            "Loss at the end of epoch 97: 10827.474489252847\n",
            "Loss at the end of epoch 98: 10804.903219389673\n",
            "Loss at the end of epoch 99: 10782.523923431629\n",
            "Loss at the end of epoch 100: 10760.230171805173\n",
            "Loss at the end of epoch 101: 10738.067261874232\n",
            "Loss at the end of epoch 102: 10715.911957518647\n",
            "Loss at the end of epoch 103: 10693.814407019312\n",
            "Loss at the end of epoch 104: 10671.755048499514\n",
            "Loss at the end of epoch 105: 10649.807674931117\n",
            "Loss at the end of epoch 106: 10628.00603817131\n",
            "Loss at the end of epoch 107: 10606.315012078647\n",
            "Loss at the end of epoch 108: 10584.922880038586\n",
            "Loss at the end of epoch 109: 10563.627402365193\n",
            "Loss at the end of epoch 110: 10542.361560024374\n",
            "Loss at the end of epoch 111: 10521.154638844802\n",
            "Loss at the end of epoch 112: 10500.129900218584\n",
            "Loss at the end of epoch 113: 10479.169935983222\n",
            "Loss at the end of epoch 114: 10458.269609323012\n",
            "Loss at the end of epoch 115: 10437.502227151237\n",
            "Loss at the end of epoch 116: 10416.837795466516\n",
            "Loss at the end of epoch 117: 10396.395812047933\n",
            "Loss at the end of epoch 118: 10375.985404060499\n",
            "Loss at the end of epoch 119: 10355.610762070748\n",
            "Loss at the end of epoch 120: 10335.359154481714\n",
            "Loss at the end of epoch 121: 10315.250860727256\n",
            "Loss at the end of epoch 122: 10295.347070438353\n",
            "Loss at the end of epoch 123: 10275.627494860952\n",
            "Loss at the end of epoch 124: 10255.951876521425\n",
            "Loss at the end of epoch 125: 10236.405009753102\n",
            "Loss at the end of epoch 126: 10216.976977012306\n",
            "Loss at the end of epoch 127: 10197.74757306197\n",
            "Loss at the end of epoch 128: 10178.68956861372\n",
            "Loss at the end of epoch 129: 10159.712571812774\n",
            "Loss at the end of epoch 130: 10140.840192835785\n",
            "Loss at the end of epoch 131: 10121.978080296049\n",
            "Loss at the end of epoch 132: 10103.223194032258\n",
            "Loss at the end of epoch 133: 10084.528724632142\n",
            "Loss at the end of epoch 134: 10065.86695441283\n",
            "Loss at the end of epoch 135: 10047.254011646617\n",
            "Loss at the end of epoch 136: 10028.679647480942\n",
            "Loss at the end of epoch 137: 10010.243809236152\n",
            "Loss at the end of epoch 138: 9991.867447851104\n",
            "Loss at the end of epoch 139: 9973.511765724448\n",
            "Loss at the end of epoch 140: 9955.235975652908\n",
            "Loss at the end of epoch 141: 9937.04284237472\n",
            "Loss at the end of epoch 142: 9918.963951145415\n",
            "Loss at the end of epoch 143: 9900.95405671674\n",
            "Loss at the end of epoch 144: 9882.9918693786\n",
            "Loss at the end of epoch 145: 9865.084442178553\n",
            "Loss at the end of epoch 146: 9847.30563223416\n",
            "Loss at the end of epoch 147: 9829.542402014038\n",
            "Loss at the end of epoch 148: 9811.850809280122\n",
            "Loss at the end of epoch 149: 9794.323279702958\n",
            "Loss at the end of epoch 150: 9776.845386218762\n",
            "Loss at the end of epoch 151: 9759.490311419417\n",
            "Loss at the end of epoch 152: 9742.281101599161\n",
            "Loss at the end of epoch 153: 9725.151735968924\n",
            "Loss at the end of epoch 154: 9708.112504442326\n",
            "Loss at the end of epoch 155: 9691.220386093531\n",
            "Loss at the end of epoch 156: 9674.521459820162\n",
            "Loss at the end of epoch 157: 9658.057194653904\n",
            "Loss at the end of epoch 158: 9641.705314286148\n",
            "Loss at the end of epoch 159: 9625.439207867705\n",
            "Loss at the end of epoch 160: 9609.326599339958\n",
            "Loss at the end of epoch 161: 9593.323322672391\n",
            "Loss at the end of epoch 162: 9577.383410207392\n",
            "Loss at the end of epoch 163: 9561.443497742393\n",
            "Loss at the end of epoch 164: 9545.503585277394\n",
            "Loss at the end of epoch 165: 9529.563672812397\n",
            "Loss at the end of epoch 166: 9513.623760347396\n",
            "Loss at the end of epoch 167: 9497.683847882396\n",
            "Loss at the end of epoch 168: 9481.797997639385\n",
            "Loss at the end of epoch 169: 9466.052284638165\n",
            "Loss at the end of epoch 170: 9450.440920542465\n",
            "Loss at the end of epoch 171: 9434.829556446764\n",
            "Loss at the end of epoch 172: 9419.218192351065\n",
            "Loss at the end of epoch 173: 9403.606828255364\n",
            "Loss at the end of epoch 174: 9387.997448677475\n",
            "Loss at the end of epoch 175: 9372.484886546448\n",
            "Loss at the end of epoch 176: 9357.071340591745\n",
            "Loss at the end of epoch 177: 9341.713290076774\n",
            "Loss at the end of epoch 178: 9326.399120126522\n",
            "Loss at the end of epoch 179: 9311.154257282737\n",
            "Loss at the end of epoch 180: 9296.019527716318\n",
            "Loss at the end of epoch 181: 9280.958103246106\n",
            "Loss at the end of epoch 182: 9265.989085766432\n",
            "Loss at the end of epoch 183: 9251.065507595216\n",
            "Loss at the end of epoch 184: 9236.173715694493\n",
            "Loss at the end of epoch 185: 9221.35569980281\n",
            "Loss at the end of epoch 186: 9206.619468259878\n",
            "Loss at the end of epoch 187: 9191.996397329038\n",
            "Loss at the end of epoch 188: 9177.421763792248\n",
            "Loss at the end of epoch 189: 9162.97934981985\n",
            "Loss at the end of epoch 190: 9148.600618542743\n",
            "Loss at the end of epoch 191: 9134.26898411014\n",
            "Loss at the end of epoch 192: 9120.105450318553\n",
            "Loss at the end of epoch 193: 9106.08437110653\n",
            "Loss at the end of epoch 194: 9092.097570106384\n",
            "Loss at the end of epoch 195: 9078.193141204545\n",
            "Loss at the end of epoch 196: 9064.29010553347\n",
            "Loss at the end of epoch 197: 9050.428658005192\n",
            "Loss at the end of epoch 198: 9036.60094257429\n",
            "Loss at the end of epoch 199: 9022.820879455607\n",
            "Loss at the end of epoch 200: 9009.090279218193\n",
            "Loss at the end of epoch 201: 8995.46647600753\n",
            "Loss at the end of epoch 202: 8981.9234928287\n",
            "Loss at the end of epoch 203: 8968.45780317256\n",
            "Loss at the end of epoch 204: 8955.15913255841\n",
            "Loss at the end of epoch 205: 8941.904878242509\n"
          ]
        },
        {
          "output_type": "stream",
          "name": "stderr",
          "text": [
            "\r 34%|███▍      | 341/1000 [00:00<00:00, 1153.51it/s]"
          ]
        },
        {
          "output_type": "stream",
          "name": "stdout",
          "text": [
            "Loss at the end of epoch 206: 8928.722932322502\n",
            "Loss at the end of epoch 207: 8915.676497248576\n",
            "Loss at the end of epoch 208: 8902.694277723322\n",
            "Loss at the end of epoch 209: 8889.737561512522\n",
            "Loss at the end of epoch 210: 8876.829413921061\n",
            "Loss at the end of epoch 211: 8864.084865867624\n",
            "Loss at the end of epoch 212: 8851.424707048733\n",
            "Loss at the end of epoch 213: 8838.842693117516\n",
            "Loss at the end of epoch 214: 8826.314061968318\n",
            "Loss at the end of epoch 215: 8813.869027456425\n",
            "Loss at the end of epoch 216: 8801.563410517027\n",
            "Loss at the end of epoch 217: 8789.348734396062\n",
            "Loss at the end of epoch 218: 8777.226856454903\n",
            "Loss at the end of epoch 219: 8765.15911057371\n",
            "Loss at the end of epoch 220: 8753.133619279259\n",
            "Loss at the end of epoch 221: 8741.195713508943\n",
            "Loss at the end of epoch 222: 8729.328828895672\n",
            "Loss at the end of epoch 223: 8717.55086800826\n",
            "Loss at the end of epoch 224: 8705.94926837443\n",
            "Loss at the end of epoch 225: 8694.388938868273\n",
            "Loss at the end of epoch 226: 8682.893404161267\n",
            "Loss at the end of epoch 227: 8671.433190162365\n",
            "Loss at the end of epoch 228: 8660.08991387606\n",
            "Loss at the end of epoch 229: 8648.848190935103\n",
            "Loss at the end of epoch 230: 8637.666041644427\n",
            "Loss at the end of epoch 231: 8626.581443039056\n",
            "Loss at the end of epoch 232: 8615.56230055494\n",
            "Loss at the end of epoch 233: 8604.593102754201\n",
            "Loss at the end of epoch 234: 8593.647664556953\n",
            "Loss at the end of epoch 235: 8582.70406679414\n",
            "Loss at the end of epoch 236: 8571.841976557707\n",
            "Loss at the end of epoch 237: 8561.109068761938\n",
            "Loss at the end of epoch 238: 8550.431542893102\n",
            "Loss at the end of epoch 239: 8539.846142276081\n",
            "Loss at the end of epoch 240: 8529.293118669868\n",
            "Loss at the end of epoch 241: 8518.850598906503\n",
            "Loss at the end of epoch 242: 8508.495467480172\n",
            "Loss at the end of epoch 243: 8498.16231613401\n",
            "Loss at the end of epoch 244: 8487.888159659005\n",
            "Loss at the end of epoch 245: 8477.692151049232\n",
            "Loss at the end of epoch 246: 8467.641494459967\n",
            "Loss at the end of epoch 247: 8457.61674534839\n",
            "Loss at the end of epoch 248: 8447.631456243342\n",
            "Loss at the end of epoch 249: 8437.732946256987\n",
            "Loss at the end of epoch 250: 8427.89097276791\n",
            "Loss at the end of epoch 251: 8418.13228404851\n",
            "Loss at the end of epoch 252: 8408.484110156138\n",
            "Loss at the end of epoch 253: 8398.869943012005\n",
            "Loss at the end of epoch 254: 8389.302921262728\n",
            "Loss at the end of epoch 255: 8379.834783869206\n",
            "Loss at the end of epoch 256: 8370.39866928526\n",
            "Loss at the end of epoch 257: 8361.00348803695\n",
            "Loss at the end of epoch 258: 8351.641385700364\n",
            "Loss at the end of epoch 259: 8342.351293537671\n",
            "Loss at the end of epoch 260: 8333.112769993935\n",
            "Loss at the end of epoch 261: 8323.881632967436\n",
            "Loss at the end of epoch 262: 8314.737520087605\n",
            "Loss at the end of epoch 263: 8305.674454011856\n",
            "Loss at the end of epoch 264: 8296.718551565\n",
            "Loss at the end of epoch 265: 8287.811023819873\n",
            "Loss at the end of epoch 266: 8278.92521821627\n",
            "Loss at the end of epoch 267: 8270.065548902578\n",
            "Loss at the end of epoch 268: 8261.355665394301\n",
            "Loss at the end of epoch 269: 8252.674110065595\n",
            "Loss at the end of epoch 270: 8244.0445873237\n",
            "Loss at the end of epoch 271: 8235.522630433168\n",
            "Loss at the end of epoch 272: 8227.061064794543\n",
            "Loss at the end of epoch 273: 8218.62536611705\n",
            "Loss at the end of epoch 274: 8210.245680626564\n",
            "Loss at the end of epoch 275: 8201.878616038191\n",
            "Loss at the end of epoch 276: 8193.577411454877\n",
            "Loss at the end of epoch 277: 8185.382913385466\n",
            "Loss at the end of epoch 278: 8177.278731540617\n",
            "Loss at the end of epoch 279: 8169.210442245448\n",
            "Loss at the end of epoch 280: 8161.221447708458\n",
            "Loss at the end of epoch 281: 8153.279314296997\n",
            "Loss at the end of epoch 282: 8145.438573741567\n",
            "Loss at the end of epoch 283: 8137.714535926523\n",
            "Loss at the end of epoch 284: 8130.0465381801305\n",
            "Loss at the end of epoch 285: 8122.50471881946\n",
            "Loss at the end of epoch 286: 8115.0814397493505\n",
            "Loss at the end of epoch 287: 8107.678904870734\n",
            "Loss at the end of epoch 288: 8100.344099826303\n",
            "Loss at the end of epoch 289: 8093.094501126054\n",
            "Loss at the end of epoch 290: 8085.8700639624985\n",
            "Loss at the end of epoch 291: 8078.651980423592\n",
            "Loss at the end of epoch 292: 8071.482050750821\n",
            "Loss at the end of epoch 293: 8064.342459103531\n",
            "Loss at the end of epoch 294: 8057.250994983501\n",
            "Loss at the end of epoch 295: 8050.188534301937\n",
            "Loss at the end of epoch 296: 8043.164207710699\n",
            "Loss at the end of epoch 297: 8036.254889822311\n",
            "Loss at the end of epoch 298: 8029.397454462731\n",
            "Loss at the end of epoch 299: 8022.616601122209\n",
            "Loss at the end of epoch 300: 8015.921776273267\n",
            "Loss at the end of epoch 301: 8009.2936633415575\n",
            "Loss at the end of epoch 302: 8002.665550409851\n",
            "Loss at the end of epoch 303: 7996.037437478141\n",
            "Loss at the end of epoch 304: 7989.409324546435\n",
            "Loss at the end of epoch 305: 7982.784617941991\n",
            "Loss at the end of epoch 306: 7976.29166043512\n",
            "Loss at the end of epoch 307: 7970.008795870151\n",
            "Loss at the end of epoch 308: 7963.790540834653\n",
            "Loss at the end of epoch 309: 7957.596233444709\n",
            "Loss at the end of epoch 310: 7951.43069650612\n",
            "Loss at the end of epoch 311: 7945.345110072085\n",
            "Loss at the end of epoch 312: 7939.301179046202\n",
            "Loss at the end of epoch 313: 7933.270124944314\n",
            "Loss at the end of epoch 314: 7927.253098803764\n",
            "Loss at the end of epoch 315: 7921.236072663215\n",
            "Loss at the end of epoch 316: 7915.235752361541\n",
            "Loss at the end of epoch 317: 7909.272720330112\n",
            "Loss at the end of epoch 318: 7903.309688298686\n",
            "Loss at the end of epoch 319: 7897.382663155276\n",
            "Loss at the end of epoch 320: 7891.532784867402\n",
            "Loss at the end of epoch 321: 7885.759903913495\n",
            "Loss at the end of epoch 322: 7880.081058691419\n",
            "Loss at the end of epoch 323: 7874.402213469342\n",
            "Loss at the end of epoch 324: 7868.726093947979\n",
            "Loss at the end of epoch 325: 7863.071660712537\n",
            "Loss at the end of epoch 326: 7857.422302344942\n",
            "Loss at the end of epoch 327: 7851.8370356230125\n",
            "Loss at the end of epoch 328: 7846.381853680848\n",
            "Loss at the end of epoch 329: 7840.982457538205\n",
            "Loss at the end of epoch 330: 7835.613493947596\n",
            "Loss at the end of epoch 331: 7830.265379946094\n",
            "Loss at the end of epoch 332: 7824.917265944592\n",
            "Loss at the end of epoch 333: 7819.593618060093\n",
            "Loss at the end of epoch 334: 7814.315486154718\n",
            "Loss at the end of epoch 335: 7809.06337722909\n",
            "Loss at the end of epoch 336: 7803.928276479628\n",
            "Loss at the end of epoch 337: 7798.818833847288\n",
            "Loss at the end of epoch 338: 7793.781912702037\n",
            "Loss at the end of epoch 339: 7788.80281714764\n",
            "Loss at the end of epoch 340: 7783.851365191099\n",
            "Loss at the end of epoch 341: 7778.942656352456\n",
            "Loss at the end of epoch 342: 7774.10295642218\n",
            "Loss at the end of epoch 343: 7769.332499856407\n",
            "Loss at the end of epoch 344: 7764.617113308467\n",
            "Loss at the end of epoch 345: 7759.939019124433\n",
            "Loss at the end of epoch 346: 7755.269290956356\n",
            "Loss at the end of epoch 347: 7750.633477081196\n",
            "Loss at the end of epoch 348: 7746.05649468531\n",
            "Loss at the end of epoch 349: 7741.5118577386165\n",
            "Loss at the end of epoch 350: 7737.061444770091\n",
            "Loss at the end of epoch 351: 7732.671235107664\n",
            "Loss at the end of epoch 352: 7728.281025445236\n",
            "Loss at the end of epoch 353: 7723.913987910394\n",
            "Loss at the end of epoch 354: 7719.651114787528\n",
            "Loss at the end of epoch 355: 7715.455445391545\n",
            "Loss at the end of epoch 356: 7711.307880854404\n",
            "Loss at the end of epoch 357: 7707.208615640957\n",
            "Loss at the end of epoch 358: 7703.177932103269\n",
            "Loss at the end of epoch 359: 7699.2133864175585\n",
            "Loss at the end of epoch 360: 7695.264972270057\n",
            "Loss at the end of epoch 361: 7691.316558122554\n",
            "Loss at the end of epoch 362: 7687.37662947229\n",
            "Loss at the end of epoch 363: 7683.484772447515\n",
            "Loss at the end of epoch 364: 7679.660875462193\n",
            "Loss at the end of epoch 365: 7675.858884770618\n",
            "Loss at the end of epoch 366: 7672.07490536537\n",
            "Loss at the end of epoch 367: 7668.302940352557\n",
            "Loss at the end of epoch 368: 7664.5772335034235\n",
            "Loss at the end of epoch 369: 7660.851526654289\n",
            "Loss at the end of epoch 370: 7657.125819805155\n",
            "Loss at the end of epoch 371: 7653.407150565791\n",
            "Loss at the end of epoch 372: 7649.723749412683\n",
            "Loss at the end of epoch 373: 7646.110641490359\n",
            "Loss at the end of epoch 374: 7642.605183170757\n",
            "Loss at the end of epoch 375: 7639.136198164657\n",
            "Loss at the end of epoch 376: 7635.6781854079245\n",
            "Loss at the end of epoch 377: 7632.265364036034\n",
            "Loss at the end of epoch 378: 7628.9267220216625\n",
            "Loss at the end of epoch 379: 7625.607881985605\n",
            "Loss at the end of epoch 380: 7622.2903338236\n",
            "Loss at the end of epoch 381: 7619.001775200056\n",
            "Loss at the end of epoch 382: 7615.715791671852\n",
            "Loss at the end of epoch 383: 7612.455823030725\n",
            "Loss at the end of epoch 384: 7609.276834959828\n",
            "Loss at the end of epoch 385: 7606.138796086803\n",
            "Loss at the end of epoch 386: 7603.012493015307\n",
            "Loss at the end of epoch 387: 7599.90725826179\n",
            "Loss at the end of epoch 388: 7596.856133445877\n",
            "Loss at the end of epoch 389: 7593.834909339725\n",
            "Loss at the end of epoch 390: 7590.846149966304\n",
            "Loss at the end of epoch 391: 7587.868549158579\n",
            "Loss at the end of epoch 392: 7584.917796127637\n",
            "Loss at the end of epoch 393: 7582.01108132829\n",
            "Loss at the end of epoch 394: 7579.148440077188\n",
            "Loss at the end of epoch 395: 7576.302547070681\n",
            "Loss at the end of epoch 396: 7573.4992463907065\n",
            "Loss at the end of epoch 397: 7570.750494625483\n",
            "Loss at the end of epoch 398: 7568.078464984691\n",
            "Loss at the end of epoch 399: 7565.4286331076855\n",
            "Loss at the end of epoch 400: 7562.816362075019\n",
            "Loss at the end of epoch 401: 7560.245607000361\n",
            "Loss at the end of epoch 402: 7557.695107800889\n",
            "Loss at the end of epoch 403: 7555.17732649375\n",
            "Loss at the end of epoch 404: 7552.67510403466\n",
            "Loss at the end of epoch 405: 7550.1789284920815\n",
            "Loss at the end of epoch 406: 7547.6995542069035\n",
            "Loss at the end of epoch 407: 7545.270955874647\n",
            "Loss at the end of epoch 408: 7542.850041605936\n",
            "Loss at the end of epoch 409: 7540.488718898028\n",
            "Loss at the end of epoch 410: 7538.144695059722\n",
            "Loss at the end of epoch 411: 7535.809285321271\n",
            "Loss at the end of epoch 412: 7533.473875582821\n",
            "Loss at the end of epoch 413: 7531.13846584437\n",
            "Loss at the end of epoch 414: 7528.814274877548\n",
            "Loss at the end of epoch 415: 7526.558302762703\n",
            "Loss at the end of epoch 416: 7524.341511897851\n",
            "Loss at the end of epoch 417: 7522.133908203808\n",
            "Loss at the end of epoch 418: 7519.938769369349\n",
            "Loss at the end of epoch 419: 7517.74363053489\n",
            "Loss at the end of epoch 420: 7515.549756300552\n",
            "Loss at the end of epoch 421: 7513.37878266553\n",
            "Loss at the end of epoch 422: 7511.215122087647\n",
            "Loss at the end of epoch 423: 7509.087629128277\n",
            "Loss at the end of epoch 424: 7506.962123434403\n",
            "Loss at the end of epoch 425: 7504.866813974453\n",
            "Loss at the end of epoch 426: 7502.795912739766\n",
            "Loss at the end of epoch 427: 7500.753659228674\n",
            "Loss at the end of epoch 428: 7498.712744612575\n",
            "Loss at the end of epoch 429: 7496.700743969\n",
            "Loss at the end of epoch 430: 7494.705974369719\n",
            "Loss at the end of epoch 431: 7492.763482947367\n",
            "Loss at the end of epoch 432: 7490.861019492168\n",
            "Loss at the end of epoch 433: 7489.030833615355\n",
            "Loss at the end of epoch 434: 7487.212063380911\n",
            "Loss at the end of epoch 435: 7485.393293146467\n",
            "Loss at the end of epoch 436: 7483.574522912022\n",
            "Loss at the end of epoch 437: 7481.75575267758\n",
            "Loss at the end of epoch 438: 7479.936982443134\n",
            "Loss at the end of epoch 439: 7478.12738275222\n",
            "Loss at the end of epoch 440: 7476.332886753035\n",
            "Loss at the end of epoch 441: 7474.558933830017\n",
            "Loss at the end of epoch 442: 7472.812966607918\n",
            "Loss at the end of epoch 443: 7471.088526518562\n",
            "Loss at the end of epoch 444: 7469.378756477825\n",
            "Loss at the end of epoch 445: 7467.66898643709\n",
            "Loss at the end of epoch 446: 7465.962214413387\n",
            "Loss at the end of epoch 447: 7464.273907606993\n",
            "Loss at the end of epoch 448: 7462.603074942884\n",
            "Loss at the end of epoch 449: 7460.98022726716\n",
            "Loss at the end of epoch 450: 7459.38711696702\n",
            "Loss at the end of epoch 451: 7457.815077153491\n",
            "Loss at the end of epoch 452: 7456.271295272194\n",
            "Loss at the end of epoch 453: 7454.7414545154\n",
            "Loss at the end of epoch 454: 7453.211613758606\n",
            "Loss at the end of epoch 455: 7451.681773001813\n",
            "Loss at the end of epoch 456: 7450.151932245018\n",
            "Loss at the end of epoch 457: 7448.62640593339\n",
            "Loss at the end of epoch 458: 7447.134279715501\n",
            "Loss at the end of epoch 459: 7445.670181933373\n",
            "Loss at the end of epoch 460: 7444.257334859624\n",
            "Loss at the end of epoch 461: 7442.893724237715\n",
            "Loss at the end of epoch 462: 7441.542894812351\n",
            "Loss at the end of epoch 463: 7440.200621192055\n",
            "Loss at the end of epoch 464: 7438.886283231246\n",
            "Loss at the end of epoch 465: 7437.571945270434\n"
          ]
        },
        {
          "output_type": "stream",
          "name": "stderr",
          "text": [
            " 60%|█████▉    | 595/1000 [00:00<00:00, 1206.70it/s]"
          ]
        },
        {
          "output_type": "stream",
          "name": "stdout",
          "text": [
            "Loss at the end of epoch 466: 7436.266101907847\n",
            "Loss at the end of epoch 467: 7434.973614501365\n",
            "Loss at the end of epoch 468: 7433.696105882499\n",
            "Loss at the end of epoch 469: 7432.425582121286\n",
            "Loss at the end of epoch 470: 7431.163185183822\n",
            "Loss at the end of epoch 471: 7429.90944924342\n",
            "Loss at the end of epoch 472: 7428.694320085573\n",
            "Loss at the end of epoch 473: 7427.489892515138\n",
            "Loss at the end of epoch 474: 7426.285464944702\n",
            "Loss at the end of epoch 475: 7425.081037374266\n",
            "Loss at the end of epoch 476: 7423.876609803831\n",
            "Loss at the end of epoch 477: 7422.684176723659\n",
            "Loss at the end of epoch 478: 7421.519490934147\n",
            "Loss at the end of epoch 479: 7420.365997510288\n",
            "Loss at the end of epoch 480: 7419.232152278045\n",
            "Loss at the end of epoch 481: 7418.098307045801\n",
            "Loss at the end of epoch 482: 7416.9687721161645\n",
            "Loss at the end of epoch 483: 7415.851423199486\n",
            "Loss at the end of epoch 484: 7414.734074282806\n",
            "Loss at the end of epoch 485: 7413.616725366125\n",
            "Loss at the end of epoch 486: 7412.4993764494475\n",
            "Loss at the end of epoch 487: 7411.382027532767\n",
            "Loss at the end of epoch 488: 7410.271241398334\n",
            "Loss at the end of epoch 489: 7409.183077074525\n",
            "Loss at the end of epoch 490: 7408.094912750719\n",
            "Loss at the end of epoch 491: 7407.01144817921\n",
            "Loss at the end of epoch 492: 7405.945596288606\n",
            "Loss at the end of epoch 493: 7404.918995894234\n",
            "Loss at the end of epoch 494: 7403.918086744645\n",
            "Loss at the end of epoch 495: 7402.937934614164\n",
            "Loss at the end of epoch 496: 7401.971130294489\n",
            "Loss at the end of epoch 497: 7401.030715876759\n",
            "Loss at the end of epoch 498: 7400.100494517039\n",
            "Loss at the end of epoch 499: 7399.170273157319\n",
            "Loss at the end of epoch 500: 7398.240051797598\n",
            "Loss at the end of epoch 501: 7397.309830437878\n",
            "Loss at the end of epoch 502: 7396.379609078159\n",
            "Loss at the end of epoch 503: 7395.449387718439\n",
            "Loss at the end of epoch 504: 7394.519166358718\n",
            "Loss at the end of epoch 505: 7393.588944998998\n",
            "Loss at the end of epoch 506: 7392.6693215285895\n",
            "Loss at the end of epoch 507: 7391.773586227073\n",
            "Loss at the end of epoch 508: 7390.896940435344\n",
            "Loss at the end of epoch 509: 7390.042822123314\n",
            "Loss at the end of epoch 510: 7389.212347976393\n",
            "Loss at the end of epoch 511: 7388.381873829469\n",
            "Loss at the end of epoch 512: 7387.556035194354\n",
            "Loss at the end of epoch 513: 7386.750527218178\n",
            "Loss at the end of epoch 514: 7385.945019242002\n",
            "Loss at the end of epoch 515: 7385.139511265824\n",
            "Loss at the end of epoch 516: 7384.334003289648\n",
            "Loss at the end of epoch 517: 7383.53473701847\n",
            "Loss at the end of epoch 518: 7382.743804923987\n",
            "Loss at the end of epoch 519: 7381.952872829504\n",
            "Loss at the end of epoch 520: 7381.16194073502\n",
            "Loss at the end of epoch 521: 7380.374177001962\n",
            "Loss at the end of epoch 522: 7379.597959505489\n",
            "Loss at the end of epoch 523: 7378.821742009017\n",
            "Loss at the end of epoch 524: 7378.045524512543\n",
            "Loss at the end of epoch 525: 7377.269307016069\n",
            "Loss at the end of epoch 526: 7376.493089519597\n",
            "Loss at the end of epoch 527: 7375.716872023124\n",
            "Loss at the end of epoch 528: 7374.942284492534\n",
            "Loss at the end of epoch 529: 7374.179918039383\n",
            "Loss at the end of epoch 530: 7373.417551586231\n",
            "Loss at the end of epoch 531: 7372.659706689832\n",
            "Loss at the end of epoch 532: 7371.915698953641\n",
            "Loss at the end of epoch 533: 7371.182966694144\n",
            "Loss at the end of epoch 534: 7370.462037608075\n",
            "Loss at the end of epoch 535: 7369.741108522006\n",
            "Loss at the end of epoch 536: 7369.020179435936\n",
            "Loss at the end of epoch 537: 7368.304132844783\n",
            "Loss at the end of epoch 538: 7367.596461132636\n",
            "Loss at the end of epoch 539: 7366.890385694537\n",
            "Loss at the end of epoch 540: 7366.196653238691\n",
            "Loss at the end of epoch 541: 7365.502920782847\n",
            "Loss at the end of epoch 542: 7364.8136186197435\n",
            "Loss at the end of epoch 543: 7364.143190518687\n",
            "Loss at the end of epoch 544: 7363.472762417628\n",
            "Loss at the end of epoch 545: 7362.808368875024\n",
            "Loss at the end of epoch 546: 7362.156955280073\n",
            "Loss at the end of epoch 547: 7361.505541685122\n",
            "Loss at the end of epoch 548: 7360.864022412316\n",
            "Loss at the end of epoch 549: 7360.248767377529\n",
            "Loss at the end of epoch 550: 7359.6347451686825\n",
            "Loss at the end of epoch 551: 7359.031883973817\n",
            "Loss at the end of epoch 552: 7358.429022778952\n",
            "Loss at the end of epoch 553: 7357.827223762552\n",
            "Loss at the end of epoch 554: 7357.23773264972\n",
            "Loss at the end of epoch 555: 7356.6482415368855\n",
            "Loss at the end of epoch 556: 7356.064208148267\n",
            "Loss at the end of epoch 557: 7355.486754444281\n",
            "Loss at the end of epoch 558: 7354.914690695847\n",
            "Loss at the end of epoch 559: 7354.3481120508395\n",
            "Loss at the end of epoch 560: 7353.785963840696\n",
            "Loss at the end of epoch 561: 7353.231305043778\n",
            "Loss at the end of epoch 562: 7352.67909663764\n",
            "Loss at the end of epoch 563: 7352.1423448022115\n",
            "Loss at the end of epoch 564: 7351.6270532474\n",
            "Loss at the end of epoch 565: 7351.11738994653\n",
            "Loss at the end of epoch 566: 7350.607726645658\n",
            "Loss at the end of epoch 567: 7350.102995558825\n",
            "Loss at the end of epoch 568: 7349.605311691263\n",
            "Loss at the end of epoch 569: 7349.107627823698\n",
            "Loss at the end of epoch 570: 7348.609943956134\n",
            "Loss at the end of epoch 571: 7348.118176853092\n",
            "Loss at the end of epoch 572: 7347.6380915449145\n",
            "Loss at the end of epoch 573: 7347.162819627814\n",
            "Loss at the end of epoch 574: 7346.694454288157\n",
            "Loss at the end of epoch 575: 7346.240423378539\n",
            "Loss at the end of epoch 576: 7345.7988526992285\n",
            "Loss at the end of epoch 577: 7345.357282019918\n",
            "Loss at the end of epoch 578: 7344.915711340607\n",
            "Loss at the end of epoch 579: 7344.474140661297\n",
            "Loss at the end of epoch 580: 7344.032569981985\n",
            "Loss at the end of epoch 581: 7343.590999302673\n",
            "Loss at the end of epoch 582: 7343.149428623362\n",
            "Loss at the end of epoch 583: 7342.707857944052\n",
            "Loss at the end of epoch 584: 7342.266287264742\n",
            "Loss at the end of epoch 585: 7341.828595695616\n",
            "Loss at the end of epoch 586: 7341.39670988832\n",
            "Loss at the end of epoch 587: 7340.97433570734\n",
            "Loss at the end of epoch 588: 7340.551961526362\n",
            "Loss at the end of epoch 589: 7340.129587345382\n",
            "Loss at the end of epoch 590: 7339.7072131644045\n",
            "Loss at the end of epoch 591: 7339.284838983424\n",
            "Loss at the end of epoch 592: 7338.862464802447\n",
            "Loss at the end of epoch 593: 7338.444724846993\n",
            "Loss at the end of epoch 594: 7338.03229416673\n",
            "Loss at the end of epoch 595: 7337.623495983484\n",
            "Loss at the end of epoch 596: 7337.226552840776\n",
            "Loss at the end of epoch 597: 7336.82960969807\n",
            "Loss at the end of epoch 598: 7336.434394511373\n",
            "Loss at the end of epoch 599: 7336.044974583222\n",
            "Loss at the end of epoch 600: 7335.655554655072\n",
            "Loss at the end of epoch 601: 7335.26613472692\n",
            "Loss at the end of epoch 602: 7334.876714798771\n",
            "Loss at the end of epoch 603: 7334.48729487062\n",
            "Loss at the end of epoch 604: 7334.0978749424685\n",
            "Loss at the end of epoch 605: 7333.709576965077\n",
            "Loss at the end of epoch 606: 7333.330307551157\n",
            "Loss at the end of epoch 607: 7332.954184628692\n",
            "Loss at the end of epoch 608: 7332.581757591756\n",
            "Loss at the end of epoch 609: 7332.209330554823\n",
            "Loss at the end of epoch 610: 7331.836903517888\n",
            "Loss at the end of epoch 611: 7331.465967519873\n",
            "Loss at the end of epoch 612: 7331.100963993687\n",
            "Loss at the end of epoch 613: 7330.736505201163\n",
            "Loss at the end of epoch 614: 7330.380218137772\n",
            "Loss at the end of epoch 615: 7330.025320211247\n",
            "Loss at the end of epoch 616: 7329.677706457616\n",
            "Loss at the end of epoch 617: 7329.3300927039845\n",
            "Loss at the end of epoch 618: 7328.982478950354\n",
            "Loss at the end of epoch 619: 7328.634865196723\n",
            "Loss at the end of epoch 620: 7328.287251443091\n",
            "Loss at the end of epoch 621: 7327.939637689458\n",
            "Loss at the end of epoch 622: 7327.5920239358275\n",
            "Loss at the end of epoch 623: 7327.247252563815\n",
            "Loss at the end of epoch 624: 7326.908033258467\n",
            "Loss at the end of epoch 625: 7326.575266144972\n",
            "Loss at the end of epoch 626: 7326.247852347896\n",
            "Loss at the end of epoch 627: 7325.9221415113125\n",
            "Loss at the end of epoch 628: 7325.602907391693\n",
            "Loss at the end of epoch 629: 7325.286221095141\n",
            "Loss at the end of epoch 630: 7324.975062813164\n",
            "Loss at the end of epoch 631: 7324.663904531187\n",
            "Loss at the end of epoch 632: 7324.352746249208\n",
            "Loss at the end of epoch 633: 7324.041587967232\n",
            "Loss at the end of epoch 634: 7323.730429685254\n",
            "Loss at the end of epoch 635: 7323.419546272884\n",
            "Loss at the end of epoch 636: 7323.116376483994\n",
            "Loss at the end of epoch 637: 7322.813206695105\n",
            "Loss at the end of epoch 638: 7322.512650571173\n",
            "Loss at the end of epoch 639: 7322.217175690914\n",
            "Loss at the end of epoch 640: 7321.922745588844\n",
            "Loss at the end of epoch 641: 7321.634937415068\n",
            "Loss at the end of epoch 642: 7321.347129241289\n",
            "Loss at the end of epoch 643: 7321.0593210675115\n",
            "Loss at the end of epoch 644: 7320.771512893734\n",
            "Loss at the end of epoch 645: 7320.485567470296\n",
            "Loss at the end of epoch 646: 7320.2030079190245\n",
            "Loss at the end of epoch 647: 7319.920448367754\n",
            "Loss at the end of epoch 648: 7319.637888816482\n",
            "Loss at the end of epoch 649: 7319.355329265211\n",
            "Loss at the end of epoch 650: 7319.072769713939\n",
            "Loss at the end of epoch 651: 7318.790210162667\n",
            "Loss at the end of epoch 652: 7318.507650611396\n",
            "Loss at the end of epoch 653: 7318.225091060123\n",
            "Loss at the end of epoch 654: 7317.942531508855\n",
            "Loss at the end of epoch 655: 7317.659971957581\n",
            "Loss at the end of epoch 656: 7317.37741240631\n",
            "Loss at the end of epoch 657: 7317.097000007822\n",
            "Loss at the end of epoch 658: 7316.821517318871\n",
            "Loss at the end of epoch 659: 7316.553002576604\n",
            "Loss at the end of epoch 660: 7316.284487834337\n",
            "Loss at the end of epoch 661: 7316.0159730920695\n",
            "Loss at the end of epoch 662: 7315.747458349802\n",
            "Loss at the end of epoch 663: 7315.478943607533\n",
            "Loss at the end of epoch 664: 7315.210428865267\n",
            "Loss at the end of epoch 665: 7314.941914122998\n",
            "Loss at the end of epoch 666: 7314.67339938073\n",
            "Loss at the end of epoch 667: 7314.404884638462\n",
            "Loss at the end of epoch 668: 7314.136369896195\n",
            "Loss at the end of epoch 669: 7313.867855153928\n",
            "Loss at the end of epoch 670: 7313.599340411661\n",
            "Loss at the end of epoch 671: 7313.334255476285\n",
            "Loss at the end of epoch 672: 7313.073035784915\n",
            "Loss at the end of epoch 673: 7312.811816093546\n",
            "Loss at the end of epoch 674: 7312.550596402176\n",
            "Loss at the end of epoch 675: 7312.289376710807\n",
            "Loss at the end of epoch 676: 7312.0281570194375\n",
            "Loss at the end of epoch 677: 7311.766937328068\n",
            "Loss at the end of epoch 678: 7311.5057176367\n",
            "Loss at the end of epoch 679: 7311.24449794533\n",
            "Loss at the end of epoch 680: 7310.983278253961\n",
            "Loss at the end of epoch 681: 7310.72205856259\n",
            "Loss at the end of epoch 682: 7310.460838871221\n",
            "Loss at the end of epoch 683: 7310.200591162639\n",
            "Loss at the end of epoch 684: 7309.945547542563\n",
            "Loss at the end of epoch 685: 7309.690503922486\n",
            "Loss at the end of epoch 686: 7309.43546030241\n",
            "Loss at the end of epoch 687: 7309.180416682333\n",
            "Loss at the end of epoch 688: 7308.925373062258\n",
            "Loss at the end of epoch 689: 7308.670329442181\n",
            "Loss at the end of epoch 690: 7308.415285822103\n",
            "Loss at the end of epoch 691: 7308.160242202028\n",
            "Loss at the end of epoch 692: 7307.90519858195\n",
            "Loss at the end of epoch 693: 7307.650154961874\n",
            "Loss at the end of epoch 694: 7307.395111341798\n",
            "Loss at the end of epoch 695: 7307.140067721722\n",
            "Loss at the end of epoch 696: 7306.885024101644\n",
            "Loss at the end of epoch 697: 7306.629980481568\n",
            "Loss at the end of epoch 698: 7306.374936861492\n",
            "Loss at the end of epoch 699: 7306.121940110447\n",
            "Loss at the end of epoch 700: 7305.873611513591\n",
            "Loss at the end of epoch 701: 7305.625282916733\n",
            "Loss at the end of epoch 702: 7305.376954319877\n",
            "Loss at the end of epoch 703: 7305.128625723022\n",
            "Loss at the end of epoch 704: 7304.880297126165\n",
            "Loss at the end of epoch 705: 7304.631968529309\n",
            "Loss at the end of epoch 706: 7304.383639932453\n",
            "Loss at the end of epoch 707: 7304.1363097266985\n",
            "Loss at the end of epoch 708: 7303.893162340304\n",
            "Loss at the end of epoch 709: 7303.651095611674\n",
            "Loss at the end of epoch 710: 7303.418847988391\n"
          ]
        },
        {
          "output_type": "stream",
          "name": "stderr",
          "text": [
            " 83%|████████▎ | 834/1000 [00:00<00:00, 1115.88it/s]"
          ]
        },
        {
          "output_type": "stream",
          "name": "stdout",
          "text": [
            "Loss at the end of epoch 711: 7303.190323739178\n",
            "Loss at the end of epoch 712: 7302.96357279375\n",
            "Loss at the end of epoch 713: 7302.740495706943\n",
            "Loss at the end of epoch 714: 7302.518297592133\n",
            "Loss at the end of epoch 715: 7302.300892605575\n",
            "Loss at the end of epoch 716: 7302.083487619018\n",
            "Loss at the end of epoch 717: 7301.8660826324585\n",
            "Loss at the end of epoch 718: 7301.6486776459\n",
            "Loss at the end of epoch 719: 7301.4312726593425\n",
            "Loss at the end of epoch 720: 7301.213867672783\n",
            "Loss at the end of epoch 721: 7300.996462686224\n",
            "Loss at the end of epoch 722: 7300.779057699667\n",
            "Loss at the end of epoch 723: 7300.561652713109\n",
            "Loss at the end of epoch 724: 7300.344247726551\n",
            "Loss at the end of epoch 725: 7300.126842739992\n",
            "Loss at the end of epoch 726: 7299.909437753433\n",
            "Loss at the end of epoch 727: 7299.692032766875\n",
            "Loss at the end of epoch 728: 7299.477555793681\n",
            "Loss at the end of epoch 729: 7299.26981819734\n",
            "Loss at the end of epoch 730: 7299.062080600999\n",
            "Loss at the end of epoch 731: 7298.854343004659\n",
            "Loss at the end of epoch 732: 7298.64660540832\n",
            "Loss at the end of epoch 733: 7298.438867811979\n",
            "Loss at the end of epoch 734: 7298.233271046017\n",
            "Loss at the end of epoch 735: 7298.0299815258895\n",
            "Loss at the end of epoch 736: 7297.827249672191\n",
            "Loss at the end of epoch 737: 7297.628756241228\n",
            "Loss at the end of epoch 738: 7297.431588556662\n",
            "Loss at the end of epoch 739: 7297.237611023885\n",
            "Loss at the end of epoch 740: 7297.048224213042\n",
            "Loss at the end of epoch 741: 7296.859648205584\n",
            "Loss at the end of epoch 742: 7296.675010061424\n",
            "Loss at the end of epoch 743: 7296.491019015441\n",
            "Loss at the end of epoch 744: 7296.3110027389785\n",
            "Loss at the end of epoch 745: 7296.1309864625155\n",
            "Loss at the end of epoch 746: 7295.950970186052\n",
            "Loss at the end of epoch 747: 7295.77095390959\n",
            "Loss at the end of epoch 748: 7295.591881865207\n",
            "Loss at the end of epoch 749: 7295.414198575711\n",
            "Loss at the end of epoch 750: 7295.236515286214\n",
            "Loss at the end of epoch 751: 7295.058831996717\n",
            "Loss at the end of epoch 752: 7294.881148707222\n",
            "Loss at the end of epoch 753: 7294.703465417728\n",
            "Loss at the end of epoch 754: 7294.525782128231\n",
            "Loss at the end of epoch 755: 7294.3480988387355\n",
            "Loss at the end of epoch 756: 7294.17041554924\n",
            "Loss at the end of epoch 757: 7293.992732259743\n",
            "Loss at the end of epoch 758: 7293.8150489702475\n",
            "Loss at the end of epoch 759: 7293.63736568075\n",
            "Loss at the end of epoch 760: 7293.459682391255\n",
            "Loss at the end of epoch 761: 7293.2819991017595\n",
            "Loss at the end of epoch 762: 7293.104315812264\n",
            "Loss at the end of epoch 763: 7292.926632522768\n",
            "Loss at the end of epoch 764: 7292.750810972654\n",
            "Loss at the end of epoch 765: 7292.577279471317\n",
            "Loss at the end of epoch 766: 7292.405089693264\n",
            "Loss at the end of epoch 767: 7292.235059830821\n",
            "Loss at the end of epoch 768: 7292.065029968381\n",
            "Loss at the end of epoch 769: 7291.895000105939\n",
            "Loss at the end of epoch 770: 7291.724970243498\n",
            "Loss at the end of epoch 771: 7291.554940381056\n",
            "Loss at the end of epoch 772: 7291.3849105186155\n",
            "Loss at the end of epoch 773: 7291.214880656174\n",
            "Loss at the end of epoch 774: 7291.0448507937335\n",
            "Loss at the end of epoch 775: 7290.874820931293\n",
            "Loss at the end of epoch 776: 7290.70479106885\n",
            "Loss at the end of epoch 777: 7290.53476120641\n",
            "Loss at the end of epoch 778: 7290.364731343969\n",
            "Loss at the end of epoch 779: 7290.196170209087\n",
            "Loss at the end of epoch 780: 7290.030339197775\n",
            "Loss at the end of epoch 781: 7289.867573464334\n",
            "Loss at the end of epoch 782: 7289.704807730893\n",
            "Loss at the end of epoch 783: 7289.542736814359\n",
            "Loss at the end of epoch 784: 7289.382804399551\n",
            "Loss at the end of epoch 785: 7289.222871984749\n",
            "Loss at the end of epoch 786: 7289.062939569942\n",
            "Loss at the end of epoch 787: 7288.903007155137\n",
            "Loss at the end of epoch 788: 7288.743074740332\n",
            "Loss at the end of epoch 789: 7288.583142325527\n",
            "Loss at the end of epoch 790: 7288.423209910722\n",
            "Loss at the end of epoch 791: 7288.2632774959175\n",
            "Loss at the end of epoch 792: 7288.103345081113\n",
            "Loss at the end of epoch 793: 7287.943412666308\n",
            "Loss at the end of epoch 794: 7287.784428254916\n",
            "Loss at the end of epoch 795: 7287.627805152281\n",
            "Loss at the end of epoch 796: 7287.471182049646\n",
            "Loss at the end of epoch 797: 7287.315184988661\n",
            "Loss at the end of epoch 798: 7287.161421818865\n",
            "Loss at the end of epoch 799: 7287.007658649068\n",
            "Loss at the end of epoch 800: 7286.85389547927\n",
            "Loss at the end of epoch 801: 7286.700132309472\n",
            "Loss at the end of epoch 802: 7286.546704441529\n",
            "Loss at the end of epoch 803: 7286.3956025093685\n",
            "Loss at the end of epoch 804: 7286.244500577206\n",
            "Loss at the end of epoch 805: 7286.0933986450445\n",
            "Loss at the end of epoch 806: 7285.942296712883\n",
            "Loss at the end of epoch 807: 7285.791194780722\n",
            "Loss at the end of epoch 808: 7285.640092848562\n",
            "Loss at the end of epoch 809: 7285.4889909163985\n",
            "Loss at the end of epoch 810: 7285.337888984238\n",
            "Loss at the end of epoch 811: 7285.186787052077\n",
            "Loss at the end of epoch 812: 7285.035685119917\n",
            "Loss at the end of epoch 813: 7284.8845960688\n",
            "Loss at the end of epoch 814: 7284.73499108596\n",
            "Loss at the end of epoch 815: 7284.585386103119\n",
            "Loss at the end of epoch 816: 7284.43653020704\n",
            "Loss at the end of epoch 817: 7284.288726625886\n",
            "Loss at the end of epoch 818: 7284.140923044732\n",
            "Loss at the end of epoch 819: 7283.9931194635765\n",
            "Loss at the end of epoch 820: 7283.845315882424\n",
            "Loss at the end of epoch 821: 7283.697512301268\n",
            "Loss at the end of epoch 822: 7283.549708720114\n",
            "Loss at the end of epoch 823: 7283.401905138959\n",
            "Loss at the end of epoch 824: 7283.2541015578045\n",
            "Loss at the end of epoch 825: 7283.10629797665\n",
            "Loss at the end of epoch 826: 7282.959039206735\n",
            "Loss at the end of epoch 827: 7282.813329611231\n",
            "Loss at the end of epoch 828: 7282.667620015727\n",
            "Loss at the end of epoch 829: 7282.521910420225\n",
            "Loss at the end of epoch 830: 7282.3762008247195\n",
            "Loss at the end of epoch 831: 7282.2304912292175\n",
            "Loss at the end of epoch 832: 7282.084781633714\n",
            "Loss at the end of epoch 833: 7281.93907203821\n",
            "Loss at the end of epoch 834: 7281.793362442708\n",
            "Loss at the end of epoch 835: 7281.647652847205\n",
            "Loss at the end of epoch 836: 7281.502374928301\n",
            "Loss at the end of epoch 837: 7281.358837085301\n",
            "Loss at the end of epoch 838: 7281.216346051714\n",
            "Loss at the end of epoch 839: 7281.073855018128\n",
            "Loss at the end of epoch 840: 7280.931363984541\n",
            "Loss at the end of epoch 841: 7280.788872950954\n",
            "Loss at the end of epoch 842: 7280.646381917368\n",
            "Loss at the end of epoch 843: 7280.5038908837805\n",
            "Loss at the end of epoch 844: 7280.361399850194\n",
            "Loss at the end of epoch 845: 7280.218908816608\n",
            "Loss at the end of epoch 846: 7280.0764177830215\n",
            "Loss at the end of epoch 847: 7279.933926749434\n",
            "Loss at the end of epoch 848: 7279.791435715847\n",
            "Loss at the end of epoch 849: 7279.6489446822625\n",
            "Loss at the end of epoch 850: 7279.506453648674\n",
            "Loss at the end of epoch 851: 7279.363962615088\n",
            "Loss at the end of epoch 852: 7279.221471581503\n",
            "Loss at the end of epoch 853: 7279.078980547914\n",
            "Loss at the end of epoch 854: 7278.936489514327\n",
            "Loss at the end of epoch 855: 7278.793998480741\n",
            "Loss at the end of epoch 856: 7278.6515074471545\n",
            "Loss at the end of epoch 857: 7278.509016413567\n",
            "Loss at the end of epoch 858: 7278.366525379981\n",
            "Loss at the end of epoch 859: 7278.2240343463955\n",
            "Loss at the end of epoch 860: 7278.081626960262\n",
            "Loss at the end of epoch 861: 7277.941060729378\n",
            "Loss at the end of epoch 862: 7277.800494498495\n",
            "Loss at the end of epoch 863: 7277.6599282676125\n",
            "Loss at the end of epoch 864: 7277.520052486357\n",
            "Loss at the end of epoch 865: 7277.381216582153\n",
            "Loss at the end of epoch 866: 7277.2423806779525\n",
            "Loss at the end of epoch 867: 7277.103544773751\n",
            "Loss at the end of epoch 868: 7276.964708869547\n",
            "Loss at the end of epoch 869: 7276.825872965346\n",
            "Loss at the end of epoch 870: 7276.687037061145\n",
            "Loss at the end of epoch 871: 7276.548201156942\n",
            "Loss at the end of epoch 872: 7276.409365252739\n",
            "Loss at the end of epoch 873: 7276.270529348538\n",
            "Loss at the end of epoch 874: 7276.131693444336\n",
            "Loss at the end of epoch 875: 7275.9928575401345\n",
            "Loss at the end of epoch 876: 7275.854021635932\n",
            "Loss at the end of epoch 877: 7275.71518573173\n",
            "Loss at the end of epoch 878: 7275.576349827527\n",
            "Loss at the end of epoch 879: 7275.437513923325\n",
            "Loss at the end of epoch 880: 7275.298678019124\n",
            "Loss at the end of epoch 881: 7275.159842114924\n",
            "Loss at the end of epoch 882: 7275.021006210721\n",
            "Loss at the end of epoch 883: 7274.882170306519\n",
            "Loss at the end of epoch 884: 7274.743334402317\n",
            "Loss at the end of epoch 885: 7274.604498498114\n",
            "Loss at the end of epoch 886: 7274.465662593913\n",
            "Loss at the end of epoch 887: 7274.32725459538\n",
            "Loss at the end of epoch 888: 7274.189630204379\n",
            "Loss at the end of epoch 889: 7274.052005813378\n",
            "Loss at the end of epoch 890: 7273.914381422378\n",
            "Loss at the end of epoch 891: 7273.776757031375\n",
            "Loss at the end of epoch 892: 7273.639132640376\n",
            "Loss at the end of epoch 893: 7273.501508249375\n",
            "Loss at the end of epoch 894: 7273.363883858376\n",
            "Loss at the end of epoch 895: 7273.226259467375\n",
            "Loss at the end of epoch 896: 7273.088635076375\n",
            "Loss at the end of epoch 897: 7272.951010685375\n",
            "Loss at the end of epoch 898: 7272.813386294372\n",
            "Loss at the end of epoch 899: 7272.675761903373\n",
            "Loss at the end of epoch 900: 7272.538610984815\n",
            "Loss at the end of epoch 901: 7272.402826216804\n",
            "Loss at the end of epoch 902: 7272.267041448793\n",
            "Loss at the end of epoch 903: 7272.131256680783\n",
            "Loss at the end of epoch 904: 7271.995471912772\n",
            "Loss at the end of epoch 905: 7271.859687144761\n",
            "Loss at the end of epoch 906: 7271.7239023767515\n",
            "Loss at the end of epoch 907: 7271.58811760874\n",
            "Loss at the end of epoch 908: 7271.4523328407295\n",
            "Loss at the end of epoch 909: 7271.316548072719\n",
            "Loss at the end of epoch 910: 7271.180763304709\n",
            "Loss at the end of epoch 911: 7271.044978536699\n",
            "Loss at the end of epoch 912: 7270.909193768688\n",
            "Loss at the end of epoch 913: 7270.773409000677\n",
            "Loss at the end of epoch 914: 7270.637624232667\n",
            "Loss at the end of epoch 915: 7270.501839464656\n",
            "Loss at the end of epoch 916: 7270.366054696645\n",
            "Loss at the end of epoch 917: 7270.230269928634\n",
            "Loss at the end of epoch 918: 7270.094541049054\n",
            "Loss at the end of epoch 919: 7269.960354456626\n",
            "Loss at the end of epoch 920: 7269.826167864201\n",
            "Loss at the end of epoch 921: 7269.691981271777\n",
            "Loss at the end of epoch 922: 7269.55779467935\n",
            "Loss at the end of epoch 923: 7269.423608086925\n",
            "Loss at the end of epoch 924: 7269.289421494499\n",
            "Loss at the end of epoch 925: 7269.155234902074\n",
            "Loss at the end of epoch 926: 7269.021048309649\n",
            "Loss at the end of epoch 927: 7268.886861717223\n",
            "Loss at the end of epoch 928: 7268.752675124798\n",
            "Loss at the end of epoch 929: 7268.618488532371\n",
            "Loss at the end of epoch 930: 7268.484301939946\n",
            "Loss at the end of epoch 931: 7268.35011534752\n",
            "Loss at the end of epoch 932: 7268.215928755095\n",
            "Loss at the end of epoch 933: 7268.08174216267\n",
            "Loss at the end of epoch 934: 7267.947555570244\n",
            "Loss at the end of epoch 935: 7267.813368977819\n",
            "Loss at the end of epoch 936: 7267.679182385394\n",
            "Loss at the end of epoch 937: 7267.544995792968\n",
            "Loss at the end of epoch 938: 7267.410809200543\n",
            "Loss at the end of epoch 939: 7267.276622608116\n",
            "Loss at the end of epoch 940: 7267.142436015691\n",
            "Loss at the end of epoch 941: 7267.008249423265\n",
            "Loss at the end of epoch 942: 7266.87406283084\n",
            "Loss at the end of epoch 943: 7266.739876238415\n"
          ]
        },
        {
          "output_type": "stream",
          "name": "stderr",
          "text": [
            "100%|██████████| 1000/1000 [00:00<00:00, 1132.31it/s]\n"
          ]
        },
        {
          "output_type": "stream",
          "name": "stdout",
          "text": [
            "Loss at the end of epoch 944: 7266.605689645989\n",
            "Loss at the end of epoch 945: 7266.471503053562\n",
            "Loss at the end of epoch 946: 7266.3373164611385\n",
            "Loss at the end of epoch 947: 7266.2031298687125\n",
            "Loss at the end of epoch 948: 7266.068943276286\n",
            "Loss at the end of epoch 949: 7265.9347566838605\n",
            "Loss at the end of epoch 950: 7265.8005700914355\n",
            "Loss at the end of epoch 951: 7265.6663834990095\n",
            "Loss at the end of epoch 952: 7265.532196906584\n",
            "Loss at the end of epoch 953: 7265.398010314159\n",
            "Loss at the end of epoch 954: 7265.263823721733\n",
            "Loss at the end of epoch 955: 7265.129637129308\n",
            "Loss at the end of epoch 956: 7264.995450536883\n",
            "Loss at the end of epoch 957: 7264.861263944457\n",
            "Loss at the end of epoch 958: 7264.72707735203\n",
            "Loss at the end of epoch 959: 7264.592890759607\n",
            "Loss at the end of epoch 960: 7264.459210094991\n",
            "Loss at the end of epoch 961: 7264.326340176069\n",
            "Loss at the end of epoch 962: 7264.193470257146\n",
            "Loss at the end of epoch 963: 7264.060600338225\n",
            "Loss at the end of epoch 964: 7263.927730419304\n",
            "Loss at the end of epoch 965: 7263.79486050038\n",
            "Loss at the end of epoch 966: 7263.661990581459\n",
            "Loss at the end of epoch 967: 7263.529120662538\n",
            "Loss at the end of epoch 968: 7263.396250743616\n",
            "Loss at the end of epoch 969: 7263.263380824696\n",
            "Loss at the end of epoch 970: 7263.130930389933\n",
            "Loss at the end of epoch 971: 7262.999422846632\n",
            "Loss at the end of epoch 972: 7262.867915303329\n",
            "Loss at the end of epoch 973: 7262.736407760027\n",
            "Loss at the end of epoch 974: 7262.604900216726\n",
            "Loss at the end of epoch 975: 7262.473392673424\n",
            "Loss at the end of epoch 976: 7262.341885130123\n",
            "Loss at the end of epoch 977: 7262.210377586822\n",
            "Loss at the end of epoch 978: 7262.0788700435205\n",
            "Loss at the end of epoch 979: 7261.947362500219\n",
            "Loss at the end of epoch 980: 7261.815854956918\n",
            "Loss at the end of epoch 981: 7261.684347413617\n",
            "Loss at the end of epoch 982: 7261.553053828172\n",
            "Loss at the end of epoch 983: 7261.422333128476\n",
            "Loss at the end of epoch 984: 7261.2916124287785\n",
            "Loss at the end of epoch 985: 7261.160891729082\n",
            "Loss at the end of epoch 986: 7261.030171029388\n",
            "Loss at the end of epoch 987: 7260.899450329692\n",
            "Loss at the end of epoch 988: 7260.768729629997\n",
            "Loss at the end of epoch 989: 7260.638008930301\n",
            "Loss at the end of epoch 990: 7260.507288230605\n",
            "Loss at the end of epoch 991: 7260.37656753091\n",
            "Loss at the end of epoch 992: 7260.245846831213\n",
            "Loss at the end of epoch 993: 7260.115126131517\n",
            "Loss at the end of epoch 994: 7259.984405431821\n",
            "Loss at the end of epoch 995: 7259.853684732126\n",
            "Loss at the end of epoch 996: 7259.722964032429\n",
            "Loss at the end of epoch 997: 7259.592243332733\n",
            "Loss at the end of epoch 998: 7259.461522633037\n",
            "Loss at the end of epoch 999: 7259.330801933341\n",
            "Gradient Descent with batch size: 1338 and learning rate: 0.01 finished 1000 epochs in 0.9002904399999991 seconds.\n"
          ]
        },
        {
          "output_type": "display_data",
          "data": {
            "text/plain": [
              "<Figure size 432x288 with 1 Axes>"
            ],
            "image/png": "[encoded data removed]"
          },
          "metadata": {
            "needs_background": "light"
          }
        },
        {
          "output_type": "execute_result",
          "data": {
            "text/plain": [
              "array([[  3.27757953],\n",
              "       [156.51374845],\n",
              "       [ 73.06112182],\n",
              "       [  5.09607692]])"
            ]
          },
          "metadata": {},
          "execution_count": 16
        }
      ]
    },
    {
      "cell_type": "markdown",
      "source": [
        "Now we will run the algorithm using batch_size = 1 and with fewer epochs."
      ],
      "metadata": {
        "id": "S8cMgTk1KNMP"
      }
    },
    {
      "cell_type": "code",
      "source": [
        "# create an instance and pass it to the function\n",
        "# the class is stateful and will keep the number\n",
        "# of occurences of the |.| == 0 special case.\n",
        "mae = MAE()\n",
        "gradient_descent(X, y_true, 0.01, 5, mae, batch_size=1)"
      ],
      "metadata": {
        "colab": {
          "base_uri": "https://localhost:8080/",
          "height": 486
        },
        "id": "o8hzONwUKR-P",
        "outputId": "a6d64529-ccb2-4f45-b5be-69557298df33"
      },
      "execution_count": 17,
      "outputs": [
        {
          "output_type": "stream",
          "name": "stderr",
          "text": [
            " 40%|████      | 2/5 [00:00<00:00,  5.07it/s]"
          ]
        },
        {
          "output_type": "stream",
          "name": "stdout",
          "text": [
            "Loss at the end of epoch 0: 17391.761175859043\n",
            "Loss at the end of epoch 1: 17241.035089359033\n"
          ]
        },
        {
          "output_type": "stream",
          "name": "stderr",
          "text": [
            "\r 60%|██████    | 3/5 [00:00<00:00,  5.91it/s]"
          ]
        },
        {
          "output_type": "stream",
          "name": "stdout",
          "text": [
            "Loss at the end of epoch 2: 17021.123048859015\n",
            "Loss at the end of epoch 3: 16596.278932358997\n"
          ]
        },
        {
          "output_type": "stream",
          "name": "stderr",
          "text": [
            "100%|██████████| 5/5 [00:00<00:00,  5.36it/s]\n"
          ]
        },
        {
          "output_type": "stream",
          "name": "stdout",
          "text": [
            "Loss at the end of epoch 4: 16409.443193858962\n",
            "Gradient Descent with batch size: 1 and learning rate: 0.01 finished 5 epochs in 0.9477450509999983 seconds.\n"
          ]
        },
        {
          "output_type": "display_data",
          "data": {
            "text/plain": [
              "<Figure size 432x288 with 1 Axes>"
            ],
            "image/png": "[encoded data removed]"
          },
          "metadata": {
            "needs_background": "light"
          }
        },
        {
          "output_type": "execute_result",
          "data": {
            "text/plain": [
              "array([[ -2.79862261],\n",
              "       [236.7259093 ],\n",
              "       [-57.09989988],\n",
              "       [ 12.29310437]])"
            ]
          },
          "metadata": {},
          "execution_count": 17
        }
      ]
    },
    {
      "cell_type": "markdown",
      "source": [
        "As expected the result is unsatisfactory (much like with MSE at batch_size = 1) but the objective was to see if we do indeed encounter few special cases:"
      ],
      "metadata": {
        "id": "ZE3M1OasKsMR"
      }
    },
    {
      "cell_type": "code",
      "source": [
        "mae.sc"
      ],
      "metadata": {
        "colab": {
          "base_uri": "https://localhost:8080/"
        },
        "id": "5BwOlzeNL0_O",
        "outputId": "a86deb73-1022-4877-bfec-3bb2fcf82898"
      },
      "execution_count": 18,
      "outputs": [
        {
          "output_type": "execute_result",
          "data": {
            "text/plain": [
              "0"
            ]
          },
          "metadata": {},
          "execution_count": 18
        }
      ]
    },
    {
      "cell_type": "markdown",
      "source": [
        "As we can see, we did not encounter a single special case throughout the training process for $5\\times len(X)$ update steps.\n",
        "\n",
        "If we would have encountered any, as explained previously, we would set the coefficient with respect to that particular instance of the dataset to zero (which is the mean of the left and right subgradients and thereby a valid choice mathematically) because the model is a perfect fit on it. However, a \"perfect fit\" in the mathematical sense of the word happens extremely rarely as there will almost always be a margin of error, even if very small."
      ],
      "metadata": {
        "id": "xN6mwPg8PFJK"
      }
    },
    {
      "cell_type": "markdown",
      "source": [
        "###d. Divergence for big learning rates\n",
        "We will run an experiment to show that the algorithm will not converge for a big enough learning rate.\n",
        "\n",
        "We set $lr = 0.1$ (as opposed to the original $0.00001$) and run the algorithm at full batch. We expect to see a sharp dip in loss for the first couple of epochs as the initial guess is likely very far off from actual optimal values but then it will increase over time."
      ],
      "metadata": {
        "id": "jil890Q7QPGn"
      }
    },
    {
      "cell_type": "code",
      "source": [
        "gradient_descent(X, y_true, 0.1, epochs, MSE(), batch_size=len(X))"
      ],
      "metadata": {
        "colab": {
          "base_uri": "https://localhost:8080/",
          "height": 1000
        },
        "id": "J7XRGKdaQuuT",
        "outputId": "c41a2c1f-6714-46c4-f355-c64e238800a2"
      },
      "execution_count": 19,
      "outputs": [
        {
          "output_type": "stream",
          "name": "stderr",
          "text": [
            "100%|██████████| 50/50 [00:00<00:00, 1799.84it/s]\n"
          ]
        },
        {
          "output_type": "stream",
          "name": "stdout",
          "text": [
            "Loss at the end of epoch 0: 321749952.3838723\n",
            "Loss at the end of epoch 1: 52552554420420.086\n",
            "Loss at the end of epoch 2: 1.4455561463515124e+19\n",
            "Loss at the end of epoch 3: 3.9762823795136363e+24\n",
            "Loss at the end of epoch 4: 1.0937535427547344e+30\n",
            "Loss at the end of epoch 5: 3.008581127065141e+35\n",
            "Loss at the end of epoch 6: 8.275685558316204e+40\n",
            "Loss at the end of epoch 7: 2.2763877245661062e+46\n",
            "Loss at the end of epoch 8: 6.261645680034253e+51\n",
            "Loss at the end of epoch 9: 1.7223870169026234e+57\n",
            "Loss at the end of epoch 10: 4.737759348878533e+62\n",
            "Loss at the end of epoch 11: 1.3032125432675028e+68\n",
            "Loss at the end of epoch 12: 3.584738708460925e+73\n",
            "Loss at the end of epoch 13: 9.860518665450266e+78\n",
            "Loss at the end of epoch 14: 2.712326790295902e+84\n",
            "Loss at the end of epoch 15: 7.46078058057298e+89\n",
            "Loss at the end of epoch 16: 2.052232314727173e+95\n",
            "Loss at the end of epoch 17: 5.645062776108343e+100\n",
            "Loss at the end of epoch 18: 1.5527839376430652e+106\n",
            "Loss at the end of epoch 19: 4.271233204362203e+111\n",
            "Loss at the end of epoch 20: 1.1748854843087506e+117\n",
            "Loss at the end of epoch 21: 3.2317502585193732e+122\n",
            "Loss at the end of epoch 22: 8.889555512369726e+127\n",
            "Loss at the end of epoch 23: 2.4452445543767955e+133\n",
            "Loss at the end of epoch 24: 6.726119120792207e+138\n",
            "Loss at the end of epoch 25: 1.850149439904049e+144\n",
            "Loss at the end of epoch 26: 5.089194658173251e+149\n",
            "Loss at the end of epoch 27: 1.399881637135342e+155\n",
            "Loss at the end of epoch 28: 3.850645788998258e+160\n",
            "Loss at the end of epoch 29: 1.0591947632567207e+166\n",
            "Loss at the end of epoch 30: 2.9135205053548243e+171\n",
            "Loss at the end of epoch 31: 8.014202892226344e+176\n",
            "Loss at the end of epoch 32: 2.2044618488088232e+182\n",
            "Loss at the end of epoch 33: 6.0637996170116966e+187\n",
            "Loss at the end of epoch 34: 1.6679656223191004e+193\n",
            "Loss at the end of epoch 35: 4.588062754305518e+198\n",
            "Loss at the end of epoch 36: 1.2620355932862512e+204\n",
            "Loss at the end of epoch 37: 3.4714735260033876e+209\n",
            "Loss at the end of epoch 38: 9.548960826344134e+214\n",
            "Loss at the end of epoch 39: 2.626626767568381e+220\n",
            "Loss at the end of epoch 40: 7.225046056396988e+225\n",
            "Loss at the end of epoch 41: 1.9873889644924133e+231\n",
            "Loss at the end of epoch 42: 5.466698572376838e+236\n",
            "Loss at the end of epoch 43: 1.503721406084168e+242\n",
            "Loss at the end of epoch 44: 4.136277201273646e+247\n",
            "Loss at the end of epoch 45: 1.1377632197395543e+253\n",
            "Loss at the end of epoch 46: 3.1296382742276377e+258\n",
            "Loss at the end of epoch 47: 8.608676706698819e+263\n",
            "Loss at the end of epoch 48: 2.3679833944626797e+269\n",
            "Loss at the end of epoch 49: 6.513597324531481e+274\n",
            "Gradient Descent with batch size: 1338 and learning rate: 0.1 finished 50 epochs in 0.04899383200000074 seconds.\n"
          ]
        },
        {
          "output_type": "display_data",
          "data": {
            "text/plain": [
              "<Figure size 432x288 with 1 Axes>"
            ],
            "image/png": "[encoded data removed]"
          },
          "metadata": {
            "needs_background": "light"
          }
        },
        {
          "output_type": "execute_result",
          "data": {
            "text/plain": [
              "array([[-4.94715697e+136],\n",
              "       [-2.10304451e+138],\n",
              "       [-1.54632729e+138],\n",
              "       [-5.48280966e+136]])"
            ]
          },
          "metadata": {},
          "execution_count": 19
        }
      ]
    },
    {
      "cell_type": "markdown",
      "source": [
        "As we can see in just 50 epochs we have reached a loss value in the order of $10^{274}$."
      ],
      "metadata": {
        "id": "4fMHX9nER424"
      }
    },
    {
      "cell_type": "markdown",
      "source": [
        "###e. Slow convergences for small learning rate\n",
        "We will show that by setting $lr$ to a smaller value, we will convergence will take more time.\n",
        "\n",
        "In order to prove this, we will repeat an exact experiment from section (a. and b.) only with a change in $lr$ and compare the final loss values.\n",
        "\n",
        "We will use the full batch version with one-tenth of the original learning rate and we recall that from the results the final loss value at the 50th epoch was $131668765.70466661$."
      ],
      "metadata": {
        "id": "JpugGM43SV9V"
      }
    },
    {
      "cell_type": "code",
      "source": [
        "gradient_descent(X, y_true, lr/10, epochs, MSE(), batch_size=len(X))"
      ],
      "metadata": {
        "colab": {
          "base_uri": "https://localhost:8080/",
          "height": 1000
        },
        "id": "2HryrrFoS_gS",
        "outputId": "54097c90-d51e-4a9c-e391-cd965a5c1cba"
      },
      "execution_count": 20,
      "outputs": [
        {
          "output_type": "stream",
          "name": "stderr",
          "text": [
            "100%|██████████| 50/50 [00:00<00:00, 1977.64it/s]\n"
          ]
        },
        {
          "output_type": "stream",
          "name": "stdout",
          "text": [
            "Loss at the end of epoch 0: 324293971.493892\n",
            "Loss at the end of epoch 1: 322264793.8391664\n",
            "Loss at the end of epoch 2: 320256885.5186305\n",
            "Loss at the end of epoch 3: 318270023.5914154\n",
            "Loss at the end of epoch 4: 316303987.4534737\n",
            "Loss at the end of epoch 5: 314358558.8130854\n",
            "Loss at the end of epoch 6: 312433521.66662025\n",
            "Loss at the end of epoch 7: 310528662.2745552\n",
            "Loss at the end of epoch 8: 308643769.1377417\n",
            "Loss at the end of epoch 9: 306778632.973923\n",
            "Loss at the end of epoch 10: 304933046.69449705\n",
            "Loss at the end of epoch 11: 303106805.3815229\n",
            "Loss at the end of epoch 12: 301299706.2649684\n",
            "Loss at the end of epoch 13: 299511548.70019627\n",
            "Loss at the end of epoch 14: 297742134.1456861\n",
            "Loss at the end of epoch 15: 295991266.1409898\n",
            "Loss at the end of epoch 16: 294258750.28491825\n",
            "Loss at the end of epoch 17: 292544394.2139569\n",
            "Loss at the end of epoch 18: 290848007.5809068\n",
            "Loss at the end of epoch 19: 289169402.0337502\n",
            "Loss at the end of epoch 20: 287508391.19473726\n",
            "Loss at the end of epoch 21: 285864790.6396927\n",
            "Loss at the end of epoch 22: 284238417.8775383\n",
            "Loss at the end of epoch 23: 282629092.3300306\n",
            "Loss at the end of epoch 24: 281036635.3117113\n",
            "Loss at the end of epoch 25: 279460870.01006705\n",
            "Loss at the end of epoch 26: 277901621.46589804\n",
            "Loss at the end of epoch 27: 276358716.5538915\n",
            "Loss at the end of epoch 28: 274831983.9633996\n",
            "Loss at the end of epoch 29: 273321254.1794183\n",
            "Loss at the end of epoch 30: 271826359.463766\n",
            "Loss at the end of epoch 31: 270347133.83645874\n",
            "Loss at the end of epoch 32: 268883413.0572819\n",
            "Loss at the end of epoch 33: 267435034.6075536\n",
            "Loss at the end of epoch 34: 266001837.67208028\n",
            "Loss at the end of epoch 35: 264583663.12130094\n",
            "Loss at the end of epoch 36: 263180353.49361882\n",
            "Loss at the end of epoch 37: 261791752.9779179\n",
            "Loss at the end of epoch 38: 260417707.3962632\n",
            "Loss at the end of epoch 39: 259058064.1867819\n",
            "Loss at the end of epoch 40: 257712672.38672405\n",
            "Loss at the end of epoch 41: 256381382.61570102\n",
            "Loss at the end of epoch 42: 255064047.0590995\n",
            "Loss at the end of epoch 43: 253760519.45166937\n",
            "Loss at the end of epoch 44: 252470655.06128335\n",
            "Loss at the end of epoch 45: 251194310.67286748\n",
            "Loss at the end of epoch 46: 249931344.57249936\n",
            "Loss at the end of epoch 47: 248681616.5316736\n",
            "Loss at the end of epoch 48: 247444987.7917319\n",
            "Loss at the end of epoch 49: 246221321.04845625\n",
            "Gradient Descent with batch size: 1338 and learning rate: 1.0000000000000002e-06 finished 50 epochs in 0.040555339000000856 seconds.\n"
          ]
        },
        {
          "output_type": "display_data",
          "data": {
            "text/plain": [
              "<Figure size 432x288 with 1 Axes>"
            ],
            "image/png": "[encoded data removed]"
          },
          "metadata": {
            "needs_background": "light"
          }
        },
        {
          "output_type": "execute_result",
          "data": {
            "text/plain": [
              "array([[-1.09627887],\n",
              "       [50.48141967],\n",
              "       [35.57693171],\n",
              "       [ 0.40217943]])"
            ]
          },
          "metadata": {},
          "execution_count": 20
        }
      ]
    },
    {
      "cell_type": "markdown",
      "source": [
        "As we can see from the graph and from the final loss value, convergence happens much slower. We have arrived at $244867180.99481207$ after 50 epochs which is almost twice as much as the original loss value."
      ],
      "metadata": {
        "id": "kxZ2ggs_TIzV"
      }
    },
    {
      "cell_type": "markdown",
      "source": [
        "###f. Normalization\n",
        "Here, we will first normalize our data and then feed it into algorithm. Because the data are different scales we expect much faster and more stable convergences.\n",
        "\n",
        "We will repeat the exact same experiment with SGD as done in section (a. and b.) in order to get a fair comparsion."
      ],
      "metadata": {
        "id": "NwVkKkcETgQq"
      }
    },
    {
      "cell_type": "code",
      "source": [
        "dataset_norm = (dataset - np.mean(dataset, axis=0))/np.std(dataset, axis=0)\n",
        "X = dataset_norm[:,:3]\n",
        "y_true = dataset_norm[:,3]"
      ],
      "metadata": {
        "id": "cRFvBFUDTw3Y"
      },
      "execution_count": 21,
      "outputs": []
    },
    {
      "cell_type": "code",
      "source": [
        "gradient_descent(X, y_true, lr, epochs, MSE(), batch_size=1)"
      ],
      "metadata": {
        "colab": {
          "base_uri": "https://localhost:8080/",
          "height": 1000
        },
        "id": "PuXnYBxGUyqb",
        "outputId": "d82d43ca-a507-4356-9e2d-df7709889ee9"
      },
      "execution_count": 22,
      "outputs": [
        {
          "output_type": "stream",
          "name": "stderr",
          "text": [
            "  2%|▏         | 1/50 [00:00<00:05,  9.55it/s]"
          ]
        },
        {
          "output_type": "stream",
          "name": "stdout",
          "text": [
            "Loss at the end of epoch 0: 0.1014321479608564\n",
            "Loss at the end of epoch 1: 0.10909604916934919\n"
          ]
        },
        {
          "output_type": "stream",
          "name": "stderr",
          "text": [
            "  8%|▊         | 4/50 [00:00<00:05,  8.44it/s]"
          ]
        },
        {
          "output_type": "stream",
          "name": "stdout",
          "text": [
            "Loss at the end of epoch 2: 0.11692472110840768\n",
            "Loss at the end of epoch 3: 0.12490685088919236\n"
          ]
        },
        {
          "output_type": "stream",
          "name": "stderr",
          "text": [
            " 14%|█▍        | 7/50 [00:00<00:04, 10.42it/s]"
          ]
        },
        {
          "output_type": "stream",
          "name": "stdout",
          "text": [
            "Loss at the end of epoch 4: 0.13303140735818975\n",
            "Loss at the end of epoch 5: 0.14128764567266394\n",
            "Loss at the end of epoch 6: 0.149665110887514\n"
          ]
        },
        {
          "output_type": "stream",
          "name": "stderr",
          "text": [
            "\r 18%|█▊        | 9/50 [00:00<00:04, 10.14it/s]"
          ]
        },
        {
          "output_type": "stream",
          "name": "stdout",
          "text": [
            "Loss at the end of epoch 7: 0.158153640622431\n",
            "Loss at the end of epoch 8: 0.16674336687503588\n",
            "Loss at the end of epoch 9: 0.17542471704257948\n"
          ]
        },
        {
          "output_type": "stream",
          "name": "stderr",
          "text": [
            " 26%|██▌       | 13/50 [00:01<00:03, 10.79it/s]"
          ]
        },
        {
          "output_type": "stream",
          "name": "stdout",
          "text": [
            "Loss at the end of epoch 10: 0.18418841421178278\n",
            "Loss at the end of epoch 11: 0.19302547677335213\n",
            "Loss at the end of epoch 12: 0.20192721741497677\n"
          ]
        },
        {
          "output_type": "stream",
          "name": "stderr",
          "text": [
            "\r 30%|███       | 15/50 [00:01<00:03, 10.95it/s]"
          ]
        },
        {
          "output_type": "stream",
          "name": "stdout",
          "text": [
            "Loss at the end of epoch 13: 0.2108852415436932\n",
            "Loss at the end of epoch 14: 0.21989144518590648\n",
            "Loss at the end of epoch 15: 0.22893801241069384\n"
          ]
        },
        {
          "output_type": "stream",
          "name": "stderr",
          "text": [
            " 38%|███▊      | 19/50 [00:01<00:02, 11.07it/s]"
          ]
        },
        {
          "output_type": "stream",
          "name": "stdout",
          "text": [
            "Loss at the end of epoch 16: 0.23801741231955753\n",
            "Loss at the end of epoch 17: 0.24712239564331093\n",
            "Loss at the end of epoch 18: 0.256245990984515\n"
          ]
        },
        {
          "output_type": "stream",
          "name": "stderr",
          "text": [
            "\r 42%|████▏     | 21/50 [00:02<00:02,  9.96it/s]"
          ]
        },
        {
          "output_type": "stream",
          "name": "stdout",
          "text": [
            "Loss at the end of epoch 19: 0.2653815007416015\n",
            "Loss at the end of epoch 20: 0.2745224967486702\n"
          ]
        },
        {
          "output_type": "stream",
          "name": "stderr",
          "text": [
            "\r 46%|████▌     | 23/50 [00:02<00:02,  9.98it/s]"
          ]
        },
        {
          "output_type": "stream",
          "name": "stdout",
          "text": [
            "Loss at the end of epoch 21: 0.2836628156629309\n",
            "Loss at the end of epoch 22: 0.2927965541297072\n",
            "Loss at the end of epoch 23: 0.30191806375313796\n"
          ]
        },
        {
          "output_type": "stream",
          "name": "stderr",
          "text": [
            " 54%|█████▍    | 27/50 [00:02<00:02, 11.50it/s]"
          ]
        },
        {
          "output_type": "stream",
          "name": "stdout",
          "text": [
            "Loss at the end of epoch 24: 0.3110219458987924\n",
            "Loss at the end of epoch 25: 0.32010304635279196\n",
            "Loss at the end of epoch 26: 0.32915644986032583\n"
          ]
        },
        {
          "output_type": "stream",
          "name": "stderr",
          "text": [
            "\r 58%|█████▊    | 29/50 [00:02<00:01, 11.40it/s]"
          ]
        },
        {
          "output_type": "stream",
          "name": "stdout",
          "text": [
            "Loss at the end of epoch 27: 0.338177474564922\n",
            "Loss at the end of epoch 28: 0.3471616663683139\n",
            "Loss at the end of epoch 29: 0.35610479322937294\n"
          ]
        },
        {
          "output_type": "stream",
          "name": "stderr",
          "text": [
            "\r 62%|██████▏   | 31/50 [00:02<00:01, 10.51it/s]"
          ]
        },
        {
          "output_type": "stream",
          "name": "stdout",
          "text": [
            "Loss at the end of epoch 30: 0.365002839419183\n",
            "Loss at the end of epoch 31: 0.3738519997480988\n"
          ]
        },
        {
          "output_type": "stream",
          "name": "stderr",
          "text": [
            " 70%|███████   | 35/50 [00:03<00:01, 10.70it/s]"
          ]
        },
        {
          "output_type": "stream",
          "name": "stdout",
          "text": [
            "Loss at the end of epoch 32: 0.3826486737793983\n",
            "Loss at the end of epoch 33: 0.3913894600430069\n",
            "Loss at the end of epoch 34: 0.400071150261695\n"
          ]
        },
        {
          "output_type": "stream",
          "name": "stderr",
          "text": [
            "\r 74%|███████▍  | 37/50 [00:03<00:01, 10.44it/s]"
          ]
        },
        {
          "output_type": "stream",
          "name": "stdout",
          "text": [
            "Loss at the end of epoch 35: 0.4086907236010958\n",
            "Loss at the end of epoch 36: 0.41724534095396837\n",
            "Loss at the end of epoch 37: 0.4257323392681941\n"
          ]
        },
        {
          "output_type": "stream",
          "name": "stderr",
          "text": [
            " 82%|████████▏ | 41/50 [00:03<00:00, 10.14it/s]"
          ]
        },
        {
          "output_type": "stream",
          "name": "stdout",
          "text": [
            "Loss at the end of epoch 38: 0.43414922592712807\n",
            "Loss at the end of epoch 39: 0.44249367319014715\n",
            "Loss at the end of epoch 40: 0.45076351270044884\n"
          ]
        },
        {
          "output_type": "stream",
          "name": "stderr",
          "text": [
            "\r 86%|████████▌ | 43/50 [00:04<00:00, 10.07it/s]"
          ]
        },
        {
          "output_type": "stream",
          "name": "stdout",
          "text": [
            "Loss at the end of epoch 41: 0.45895673006646825\n",
            "Loss at the end of epoch 42: 0.46707145952256945\n",
            "Loss at the end of epoch 43: 0.47510597867408294\n"
          ]
        },
        {
          "output_type": "stream",
          "name": "stderr",
          "text": [
            "\r 90%|█████████ | 45/50 [00:04<00:00, 10.17it/s]"
          ]
        },
        {
          "output_type": "stream",
          "name": "stdout",
          "text": [
            "Loss at the end of epoch 44: 0.4830587033311593\n",
            "Loss at the end of epoch 45: 0.49092818243532677\n"
          ]
        },
        {
          "output_type": "stream",
          "name": "stderr",
          "text": [
            " 96%|█████████▌| 48/50 [00:04<00:00,  9.50it/s]"
          ]
        },
        {
          "output_type": "stream",
          "name": "stdout",
          "text": [
            "Loss at the end of epoch 46: 0.49871309308218825\n",
            "Loss at the end of epoch 47: 0.506412235643147\n",
            "Loss at the end of epoch 48: 0.5140245289886558\n"
          ]
        },
        {
          "output_type": "stream",
          "name": "stderr",
          "text": [
            "100%|██████████| 50/50 [00:04<00:00, 10.13it/s]"
          ]
        },
        {
          "output_type": "stream",
          "name": "stdout",
          "text": [
            "Loss at the end of epoch 49: 0.521549005815035\n",
            "Gradient Descent with batch size: 1 and learning rate: 1e-05 finished 50 epochs in 4.945859815999995 seconds.\n"
          ]
        },
        {
          "output_type": "stream",
          "name": "stderr",
          "text": [
            "\n"
          ]
        },
        {
          "output_type": "display_data",
          "data": {
            "text/plain": [
              "<Figure size 432x288 with 1 Axes>"
            ],
            "image/png": "[encoded data removed]"
          },
          "metadata": {
            "needs_background": "light"
          }
        },
        {
          "output_type": "execute_result",
          "data": {
            "text/plain": [
              "array([[ 0.1858373 ],\n",
              "       [ 0.1926161 ],\n",
              "       [-0.18066636],\n",
              "       [-0.06272317]])"
            ]
          },
          "metadata": {},
          "execution_count": 22
        }
      ]
    },
    {
      "cell_type": "markdown",
      "source": [
        "There are less fluctuations and we can overall see a downward trend which means convergence can in fact happen. A learning rate decay scheme could probably help with a more stable convergence after normalization."
      ],
      "metadata": {
        "id": "9k_6HdMEVcmd"
      }
    },
    {
      "cell_type": "markdown",
      "source": [
        "#Problem 3"
      ],
      "metadata": {
        "id": "NYFoNTdMWzPE"
      }
    },
    {
      "cell_type": "markdown",
      "source": [
        "Since we will need to repeat the same task over the next couple of sections we will first define a function that will a set of X's to their respective y's and then plot and report the MSE loss on all datasets."
      ],
      "metadata": {
        "id": "SJwH06Uso8xC"
      }
    },
    {
      "cell_type": "code",
      "source": [
        "from sklearn import linear_model\n",
        "from sklearn.preprocessing import MinMaxScaler\n",
        "from sklearn.metrics import mean_squared_error\n",
        "def linreg_fit(X, y, regularization=False):\n",
        "  # NOTE: Same scaler must be used for all splits\n",
        "  # Remember that we have never seen validation or test datasets before.\n",
        "  scaler = MinMaxScaler()\n",
        "  scaler.fit(X['train'])\n",
        "  # scale and augment for bias term\n",
        "  # NOTE: We do not scale the bias terms because that defeats its own purpose\n",
        "  X_trans = {\n",
        "      'train': np.hstack([np.ones([len(X['train']), 1]), scaler.transform(X['train'])]),\n",
        "      'val': np.hstack([np.ones([len(X['val']), 1]), scaler.transform(X['val'])]),\n",
        "      'test': np.hstack([np.ones([len(X['test']), 1]), scaler.transform(X['test'])]),\n",
        "  }\n",
        "  # create the regressor object\n",
        "  if not regularization:\n",
        "    regressor = linear_model.LinearRegression()\n",
        "  else:\n",
        "    # in this case (regularization required) we will use Ridge Regression instead\n",
        "    # https://scikit-learn.org/stable/modules/linear_model.html#ridge-regression-and-classification\n",
        "    # we will first auto-tune the alpha hyper parameter of Ridge Regression\n",
        "    # in order to do so, we will test log scale equidistant values between 1e-4 and 1e+4 for alpha\n",
        "    # and obtain the MSE of the regressor on the validation dataset.\n",
        "    # alpha that leads to the least MSE is chosen as best and the final regressor\n",
        "    # is built upon it.\n",
        "    alpha_list = np.logspace(-4, 4, 1000)\n",
        "    alpha_best = alpha_list[0]\n",
        "    mse_best = np.Inf\n",
        "    print('Optimizing alpha for Ridge Regression.')\n",
        "    for alpha in alpha_list:\n",
        "      temp_regressor = linear_model.Ridge(alpha=alpha)\n",
        "      temp_regressor.fit(X_trans['train'], y['train']/1000)\n",
        "      temp_y_pred = 1000*temp_regressor.predict(X_trans['val'])\n",
        "      mse = mean_squared_error(temp_y_pred, y['val'])\n",
        "      if mse < mse_best:\n",
        "        alpha_best = alpha\n",
        "        mse_best = mse\n",
        "    print(f'Optimization complete. Compiling model with alpha = {alpha_best}')\n",
        "    regressor = linear_model.Ridge(alpha=alpha_best)\n",
        "\n",
        "  # fit the regressor on to the data  \n",
        "  regressor.fit(X_trans['train'], y['train']/1000)\n",
        "  print(f\"Regressor score: {regressor.score(X_trans['train'], y['train']/1000)}\")\n",
        "  print(f'Final coefficients of the regressor: {regressor.coef_}')\n",
        "  # perform prediction\n",
        "  y_pred = {\n",
        "      'train': 1000*regressor.predict(X_trans['train']),\n",
        "      'val': 1000*regressor.predict(X_trans['val']),\n",
        "      'test': 1000*regressor.predict(X_trans['test'])\n",
        "  }\n",
        "\n",
        "  # metrics and plots\n",
        "  print('Report of MSEs on each split:')\n",
        "  print(f\"\\tMSE(train): {mean_squared_error(y_pred['train'], y['train'])}\")\n",
        "  print(f\"\\tMSE(val): {mean_squared_error(y_pred['val'], y['val'])}\")\n",
        "  print(f\"\\tMSE(test): {mean_squared_error(y_pred['test'], y['test'])}\")\n",
        "\n",
        "  plt.subplot(1, 3, 1)\n",
        "  plt.scatter(X['train'][:, 0], y['train'], color='green')\n",
        "  plt.plot(X['train'][:, 0], y_pred['train'], color='red')\n",
        "  plt.title('Train data')\n",
        "\n",
        "  plt.subplot(1, 3, 2)\n",
        "  plt.scatter(X['val'][:, 0], y['val'], color='green')\n",
        "  plt.plot(X['val'][:, 0], y_pred['val'], color='red')\n",
        "  plt.title('Validation data')\n",
        "\n",
        "  plt.subplot(1, 3, 3)\n",
        "  plt.scatter(X['test'][:, 0], y['test'], color='green')\n",
        "  plt.plot(X['test'][:, 0], y_pred['test'], color='red')\n",
        "  plt.title('Test data')\n",
        "\n",
        "  plt.tight_layout()\n",
        "  plt.show()"
      ],
      "metadata": {
        "id": "eDW08owbpXQN"
      },
      "execution_count": 23,
      "outputs": []
    },
    {
      "cell_type": "markdown",
      "source": [
        "###a. First degree Linear Regressor\n",
        "We will fit a linear regressor on all splits of data, report MSE and plot the data as well as the best fit."
      ],
      "metadata": {
        "id": "1ctaQQOn1YvA"
      }
    },
    {
      "cell_type": "code",
      "source": [
        "# read in all of the data and sort them by year\n",
        "train = np.loadtxt('data/data3/data3_train.csv', delimiter=',')\n",
        "train = train[train[:, 0].argsort()]\n",
        "val = np.loadtxt('data/data3/data3_validation.csv', delimiter=',')\n",
        "val = val[val[:, 0].argsort()]\n",
        "test = np.loadtxt('data/data3/data3_test.csv', delimiter=',')\n",
        "test = test[test[:, 0].argsort()]\n",
        "X = {\n",
        "    'train': train[:, 0].reshape(-1, 1),\n",
        "    'val': val[:, 0].reshape(-1, 1),\n",
        "    'test': test[:, 0].reshape(-1, 1)\n",
        "}\n",
        "y = {\n",
        "    'train': train[:, 1].reshape(-1, 1),\n",
        "    'val': val[:, 1].reshape(-1, 1),\n",
        "    'test': test[:, 1].reshape(-1, 1)\n",
        "}\n",
        "linreg_fit(X, y)"
      ],
      "metadata": {
        "colab": {
          "base_uri": "https://localhost:8080/",
          "height": 401
        },
        "id": "tHiTqMjl1oYb",
        "outputId": "b5c9e616-75b1-4b3e-d73d-f149c5abd06b"
      },
      "execution_count": 24,
      "outputs": [
        {
          "output_type": "stream",
          "name": "stdout",
          "text": [
            "Regressor score: 0.6120093485411349\n",
            "Final coefficients of the regressor: [[0.         7.22435295]]\n",
            "Report of MSEs on each split:\n",
            "\tMSE(train): 3326099.2006335096\n",
            "\tMSE(val): 4072155.272586913\n",
            "\tMSE(test): 4223916.931048354\n"
          ]
        },
        {
          "output_type": "display_data",
          "data": {
            "text/plain": [
              "<Figure size 432x288 with 3 Axes>"
            ],
            "image/png": "[encoded data removed]"
          },
          "metadata": {
            "needs_background": "light"
          }
        }
      ]
    },
    {
      "cell_type": "markdown",
      "source": [
        "As expected, least amount of MSE has been achieved on the train data because we fit our regressor on this data and tested it on the other data. However because we have extremely few data points, the regressor fails to generalize well enough for test data. Additionally, a linear function does not seem to be a great fit for this data."
      ],
      "metadata": {
        "id": "IZ1ddr2v4zcc"
      }
    },
    {
      "cell_type": "markdown",
      "source": [
        "###b. Higher degree regressors\n",
        "This time we will add higher order features to the model and try to build a more complicated regressor that will hopefully better fit the data. Keeping in mind that higher we go, the more we trade bias for variance and we will eventually pivot from underfitting to overfitting."
      ],
      "metadata": {
        "id": "BZfX41K16ywY"
      }
    },
    {
      "cell_type": "code",
      "source": [
        "for order in range(2, 11):\n",
        "  X['train'] = np.hstack([X['train'], (X['train'][:, 0]**order).reshape(-1, 1)])\n",
        "  X['val'] = np.hstack([X['val'], (X['val'][:, 0]**order).reshape(-1, 1)])\n",
        "  X['test'] = np.hstack([X['test'], (X['test'][:, 0]**order).reshape(-1, 1)])\n",
        "  linreg_fit(X, y)"
      ],
      "metadata": {
        "colab": {
          "base_uri": "https://localhost:8080/",
          "height": 1000
        },
        "id": "_ufElnfr7Lvs",
        "outputId": "67ac5534-7935-47a3-c30c-6221dba29957"
      },
      "execution_count": 25,
      "outputs": [
        {
          "output_type": "stream",
          "name": "stdout",
          "text": [
            "Regressor score: 0.6205517319189764\n",
            "Final coefficients of the regressor: [[   0.         -569.49112373  576.90425106]]\n",
            "Report of MSEs on each split:\n",
            "\tMSE(train): 3252868.532786977\n",
            "\tMSE(val): 4741270.094572956\n",
            "\tMSE(test): 4626115.598444338\n"
          ]
        },
        {
          "output_type": "display_data",
          "data": {
            "text/plain": [
              "<Figure size 432x288 with 3 Axes>"
            ],
            "image/png": "[encoded data removed]"
          },
          "metadata": {
            "needs_background": "light"
          }
        },
        {
          "output_type": "stream",
          "name": "stdout",
          "text": [
            "Regressor score: 0.8993669494928871\n",
            "Final coefficients of the regressor: [[       0.          2118692.14389196 -4237819.29664432  2119138.46934747]]\n",
            "Report of MSEs on each split:\n",
            "\tMSE(train): 862689.6230372349\n",
            "\tMSE(val): 751722.7876546305\n",
            "\tMSE(test): 655083.1427114925\n"
          ]
        },
        {
          "output_type": "display_data",
          "data": {
            "text/plain": [
              "<Figure size 432x288 with 3 Axes>"
            ],
            "image/png": "[encoded data removed]"
          },
          "metadata": {
            "needs_background": "light"
          }
        },
        {
          "output_type": "stream",
          "name": "stdout",
          "text": [
            "Regressor score: 0.9322286897058653\n",
            "Final coefficients of the regressor: [[ 0.00000000e+00 -3.62721569e+08  1.09040305e+09 -1.09264638e+09\n",
            "   3.64964914e+08]]\n",
            "Report of MSEs on each split:\n",
            "\tMSE(train): 580978.1760143915\n",
            "\tMSE(val): 121591.46564330005\n",
            "\tMSE(test): 416169.1736135242\n"
          ]
        },
        {
          "output_type": "display_data",
          "data": {
            "text/plain": [
              "<Figure size 432x288 with 3 Axes>"
            ],
            "image/png": "[encoded data removed]"
          },
          "metadata": {
            "needs_background": "light"
          }
        },
        {
          "output_type": "stream",
          "name": "stdout",
          "text": [
            "Regressor score: 0.97698680056178\n",
            "Final coefficients of the regressor: [[ 0.00000000e+00 -2.50362532e+11  1.00119848e+12 -1.50142572e+12\n",
            "   1.00070612e+12 -2.50116352e+11]]\n",
            "Report of MSEs on each split:\n",
            "\tMSE(train): 197283.57878642905\n",
            "\tMSE(val): 1796952.0842095376\n",
            "\tMSE(test): 638208.0944166507\n"
          ]
        },
        {
          "output_type": "display_data",
          "data": {
            "text/plain": [
              "<Figure size 432x288 with 3 Axes>"
            ],
            "image/png": "[encoded data removed]"
          },
          "metadata": {
            "needs_background": "light"
          }
        },
        {
          "output_type": "stream",
          "name": "stdout",
          "text": [
            "Regressor score: 0.9809746173110969\n",
            "Final coefficients of the regressor: [[ 0.00000000e+00  7.40751242e+12 -3.72929949e+13  7.50969505e+13\n",
            "  -7.56080117e+13  3.80595894e+13 -7.66304577e+12]]\n",
            "Report of MSEs on each split:\n",
            "\tMSE(train): 163097.51256987677\n",
            "\tMSE(val): 2182204.312958765\n",
            "\tMSE(test): 870005.0241090981\n"
          ]
        },
        {
          "output_type": "display_data",
          "data": {
            "text/plain": [
              "<Figure size 432x288 with 3 Axes>"
            ],
            "image/png": "[encoded data removed]"
          },
          "metadata": {
            "needs_background": "light"
          }
        },
        {
          "output_type": "stream",
          "name": "stdout",
          "text": [
            "Regressor score: 0.9808580727931875\n",
            "Final coefficients of the regressor: [[ 0.00000000e+00  7.88156650e+12 -3.85498701e+13  7.42657340e+13\n",
            "  -6.91953746e+13  2.92669177e+13 -2.55069600e+12 -1.11827746e+12]]\n",
            "Report of MSEs on each split:\n",
            "\tMSE(train): 164096.60527069197\n",
            "\tMSE(val): 2296251.7476593973\n",
            "\tMSE(test): 919287.9902977673\n"
          ]
        },
        {
          "output_type": "display_data",
          "data": {
            "text/plain": [
              "<Figure size 432x288 with 3 Axes>"
            ],
            "image/png": "[encoded data removed]"
          },
          "metadata": {
            "needs_background": "light"
          }
        },
        {
          "output_type": "stream",
          "name": "stdout",
          "text": [
            "Regressor score: 0.9999078824219243\n",
            "Final coefficients of the regressor: [[ 0.00000000e+00 -1.07331662e+13 -2.89502558e+13  2.39597472e+14\n",
            "  -3.88047040e+14  1.10869354e+14  2.59349788e+14 -2.48273142e+14\n",
            "   6.61869887e+13]]\n",
            "Report of MSEs on each split:\n",
            "\tMSE(train): 789.6896527016627\n",
            "\tMSE(val): 2212851.899091579\n",
            "\tMSE(test): 1010733.3847902503\n"
          ]
        },
        {
          "output_type": "display_data",
          "data": {
            "text/plain": [
              "<Figure size 432x288 with 3 Axes>"
            ],
            "image/png": "[encoded data removed]"
          },
          "metadata": {
            "needs_background": "light"
          }
        },
        {
          "output_type": "stream",
          "name": "stdout",
          "text": [
            "Regressor score: 0.999722717450094\n",
            "Final coefficients of the regressor: [[ 0.00000000e+00 -2.32490488e+12 -6.42088492e+13  2.81618915e+14\n",
            "  -3.89685879e+14  1.34270222e+14  1.04892743e+14 -3.42413161e+13\n",
            "  -5.64993944e+13  2.61784638e+13]]\n",
            "Report of MSEs on each split:\n",
            "\tMSE(train): 2377.039921256345\n",
            "\tMSE(val): 4226389.011200954\n",
            "\tMSE(test): 1331129.3343630042\n"
          ]
        },
        {
          "output_type": "display_data",
          "data": {
            "text/plain": [
              "<Figure size 432x288 with 3 Axes>"
            ],
            "image/png": "[encoded data removed]"
          },
          "metadata": {
            "needs_background": "light"
          }
        },
        {
          "output_type": "stream",
          "name": "stdout",
          "text": [
            "Regressor score: 0.9999237395496091\n",
            "Final coefficients of the regressor: [[-1.09063340e+13 -5.74204698e+12 -4.11029235e+13  2.31798193e+14\n",
            "  -3.48923802e+14  1.01052628e+14  2.16361072e+14 -2.26345080e+14\n",
            "   9.40330496e+13 -2.82810171e+13  7.14992687e+12]]\n",
            "Report of MSEs on each split:\n",
            "\tMSE(train): 653.7524090625186\n",
            "\tMSE(val): 1708005.1895703108\n",
            "\tMSE(test): 945435.6562285151\n"
          ]
        },
        {
          "output_type": "display_data",
          "data": {
            "text/plain": [
              "<Figure size 432x288 with 3 Axes>"
            ],
            "image/png": "[encoded data removed]"
          },
          "metadata": {
            "needs_background": "light"
          }
        }
      ]
    },
    {
      "cell_type": "markdown",
      "source": [
        "###c. Analysis\n",
        "As we can see from the MSE values, by increasing the order of the highest degree term in the regression, MSE(train) consistently decreases to the point where it almost perfectly fits the train data on the last diagram. However, MSE(val) and MSE(test) only decrease until the addition of the $x^4$ term and then we can see the model overfitting on the train data. Therefore the models **lose bias** and **increase in variance** as we move up in the orders."
      ],
      "metadata": {
        "id": "jcAYTeQNSGxj"
      }
    },
    {
      "cell_type": "markdown",
      "source": [
        "###d. Regularization\n",
        "We will employ Ridge Regression to see if we can get a good fit even with terms up to $x^{10}$."
      ],
      "metadata": {
        "id": "mjcV_kaQS-iZ"
      }
    },
    {
      "cell_type": "code",
      "source": [
        "# remember that X from section b. contains all terms from x^0 to x^10\n",
        "# because at each step we kept building on the currect X and added higher\n",
        "# order terms to it\n",
        "linreg_fit(X, y, regularization=True)"
      ],
      "metadata": {
        "id": "1486PhnwSEXD",
        "colab": {
          "base_uri": "https://localhost:8080/",
          "height": 453
        },
        "outputId": "b79ee294-7ec6-4927-879d-f6e9009b32e9"
      },
      "execution_count": 26,
      "outputs": [
        {
          "output_type": "stream",
          "name": "stdout",
          "text": [
            "Optimizing alpha for Ridge Regression.\n",
            "Optimization complete. Compiling model with alpha = 11.299339380332217\n",
            "Regressor score: 0.44083084898979374\n",
            "Final coefficients of the regressor: [[0.         0.34036605 0.34036403 0.34036238 0.34036111 0.34036021\n",
            "  0.34035968 0.34035953 0.34035975 0.34036035 0.34036132]]\n",
            "Report of MSEs on each split:\n",
            "\tMSE(train): 4793548.65690919\n",
            "\tMSE(val): 1752087.5335610216\n",
            "\tMSE(test): 2594099.187577975\n"
          ]
        },
        {
          "output_type": "display_data",
          "data": {
            "text/plain": [
              "<Figure size 432x288 with 3 Axes>"
            ],
            "image/png": "[encoded data removed]"
          },
          "metadata": {
            "needs_background": "light"
          }
        }
      ]
    },
    {
      "cell_type": "markdown",
      "source": [
        "The higher order features are orders of magnitude more significant than lower order features so the same regularization term for every feature up $x^{10}$ performs better than the first and the second model but is much worse than the third model. \n",
        "\n",
        "In order words, minimizing all of the feature weights to near 0 does not work well for this model. We need weights for the higher order features to be more severely penalized.\n",
        "\n",
        "It may be theoretically possible run PCA on the augmented feature list and use regularization on the reduced dataset to get a better result but that is outside the scope of this problem."
      ],
      "metadata": {
        "id": "CL6YjynCY9hm"
      }
    },
    {
      "cell_type": "markdown",
      "source": [
        "#Problem 4"
      ],
      "metadata": {
        "id": "es6OWocXbwyr"
      }
    },
    {
      "cell_type": "markdown",
      "source": [
        "###a. Plotting all splits of the dataset\n"
      ],
      "metadata": {
        "id": "yeLxZTGKFW7v"
      }
    },
    {
      "cell_type": "code",
      "source": [
        "# read in all of the data and sort them by month\n",
        "train = np.loadtxt('data/data4/data4_train.csv', delimiter=',')\n",
        "train = train[train[:, 0].argsort()]\n",
        "val = np.loadtxt('data/data4/data4_validation.csv', delimiter=',')\n",
        "val = val[val[:, 0].argsort()]\n",
        "test = np.loadtxt('data/data4/data4_test.csv', delimiter=',')\n",
        "test = test[test[:, 0].argsort()]\n",
        "X = {\n",
        "    'train': train[:, 0].reshape(-1, 1),\n",
        "    'val': val[:, 0].reshape(-1, 1),\n",
        "    'test': test[:, 0].reshape(-1, 1)\n",
        "}\n",
        "y = {\n",
        "    'train': train[:, 1].reshape(-1, 1),\n",
        "    'val': val[:, 1].reshape(-1, 1),\n",
        "    'test': test[:, 1].reshape(-1, 1)\n",
        "}\n",
        "\n",
        "# scatter plot of the entire dataset in one \n",
        "plt.scatter(X['train'], y['train'], color='blue')\n",
        "plt.scatter(X['val'], y['val'], color='red')\n",
        "plt.scatter(X['test'], y['test'], color='green')\n",
        "plt.legend(['Train', 'Validation', 'Test'])\n",
        "plt.show()"
      ],
      "metadata": {
        "id": "jKycbuOPKQn9",
        "colab": {
          "base_uri": "https://localhost:8080/",
          "height": 265
        },
        "outputId": "daf2b5e2-257f-4ad0-d4e8-9167b4fab987"
      },
      "execution_count": 27,
      "outputs": [
        {
          "output_type": "display_data",
          "data": {
            "text/plain": [
              "<Figure size 432x288 with 1 Axes>"
            ],
            "image/png": "[encoded data removed]"
          },
          "metadata": {
            "needs_background": "light"
          }
        }
      ]
    },
    {
      "cell_type": "markdown",
      "source": [
        "The data appear to follow a sinusoidal pattern and therefore we will first use a cosine transform on the features (as suggested in the hint for this problem) to be able to fit a linear regressor.\n",
        "\n",
        "If we assume that this data is generated from a cosine function we have:\n",
        "$$ y = a cos(bx) + c\\qquad(I)$$\n",
        "If we transform the input features with a cosine function so that we have:\n",
        "$$ \\bar X = cos(bX)$$\n",
        "Where $X$ contains the original input features. We can write $(I)$ as:\n",
        "$$ y = a\\bar X + c$$\n",
        "This means that with this transform we can fit a linear regressor on the transformed space instead of trying to directly fit a cosine on the original data.\n",
        "\n",
        "We will adopt the following modified function from Problem 3 for this problem. In this modified version we will set $b = \\frac{1}{j}$ as per the problem statement's request."
      ],
      "metadata": {
        "id": "3X8OICLdL2kF"
      }
    },
    {
      "cell_type": "code",
      "source": [
        "def linreg_fit_cosine(X, y, j=1):\n",
        "  # transform and augment for bias term\n",
        "  # NOTE: We do not transform the bias terms because that defeats its own purpose\n",
        "  # X_NEW = cos(X_OLD/j)\n",
        "  X_trans = {\n",
        "      'train': np.hstack([np.ones([len(X['train']), 1]), np.cos(X['train']/j)]),\n",
        "      'val': np.hstack([np.ones([len(X['val']), 1]), np.cos(X['val']/j)]),\n",
        "      'test': np.hstack([np.ones([len(X['test']), 1]), np.cos(X['test']/j)]),\n",
        "  }\n",
        "  \n",
        "  # create the regressor object\n",
        "  regressor = linear_model.LinearRegression()\n",
        "\n",
        "  # fit the regressor on to the data  \n",
        "  regressor.fit(X_trans['train'], y['train'])\n",
        "  print(f'Final coefficients of the regressor: {regressor.coef_}')\n",
        "  print(f\"Regressor score: {regressor.score(X_trans['train'], y['train'])}\")\n",
        "  # perform prediction\n",
        "  y_pred = {\n",
        "      'train': regressor.predict(X_trans['train']),\n",
        "      'val': regressor.predict(X_trans['val']),\n",
        "      'test': regressor.predict(X_trans['test'])\n",
        "  }\n",
        "\n",
        "  # metrics and plots\n",
        "  print('Report of MSEs on each split:')\n",
        "  print(f\"\\tMSE(train): {mean_squared_error(y_pred['train'], y['train'])}\")\n",
        "  print(f\"\\tMSE(val): {mean_squared_error(y_pred['val'], y['val'])}\")\n",
        "  print(f\"\\tMSE(test): {mean_squared_error(y_pred['test'], y['test'])}\")\n",
        "\n",
        "  plt.subplot(1, 3, 1)\n",
        "  plt.scatter(X['train'][:, 0], y['train'], color='green')\n",
        "  plt.plot(X['train'][:, 0], y_pred['train'], color='red')\n",
        "  plt.title('Train data')\n",
        "\n",
        "  plt.subplot(1, 3, 2)\n",
        "  plt.scatter(X['val'][:, 0], y['val'], color='green')\n",
        "  plt.plot(X['val'][:, 0], y_pred['val'], color='red')\n",
        "  plt.title('Validation data')\n",
        "\n",
        "  plt.subplot(1, 3, 3)\n",
        "  plt.scatter(X['test'][:, 0], y['test'], color='green')\n",
        "  plt.plot(X['test'][:, 0], y_pred['test'], color='red')\n",
        "  plt.title('Test data')\n",
        "\n",
        "  plt.tight_layout()\n",
        "  plt.show()"
      ],
      "metadata": {
        "id": "6BNUu2HOUBRJ"
      },
      "execution_count": 28,
      "outputs": []
    },
    {
      "cell_type": "markdown",
      "source": [
        "###b. Attempting to fit a cosine with j=1"
      ],
      "metadata": {
        "id": "6WhdYDEuHGa-"
      }
    },
    {
      "cell_type": "code",
      "source": [
        "linreg_fit_cosine(X, y, j=1)"
      ],
      "metadata": {
        "id": "Z9En0niGOHnp",
        "colab": {
          "base_uri": "https://localhost:8080/",
          "height": 401
        },
        "outputId": "813cc1a6-7aa2-4d73-e5c8-28ec3848a435"
      },
      "execution_count": 29,
      "outputs": [
        {
          "output_type": "stream",
          "name": "stdout",
          "text": [
            "Final coefficients of the regressor: [[ 0.         -0.03189758]]\n",
            "Regressor score: 0.0002215518033841235\n",
            "Report of MSEs on each split:\n",
            "\tMSE(train): 2.3277440098337014\n",
            "\tMSE(val): 1.6594905523557482\n",
            "\tMSE(test): 2.4020864649078297\n"
          ]
        },
        {
          "output_type": "display_data",
          "data": {
            "text/plain": [
              "<Figure size 432x288 with 3 Axes>"
            ],
            "image/png": "[encoded data removed]"
          },
          "metadata": {
            "needs_background": "light"
          }
        }
      ]
    },
    {
      "cell_type": "markdown",
      "source": [
        "As we can see, we cannot achieve great results with $j=1$. The curve that is fit to the data is far from ideal."
      ],
      "metadata": {
        "id": "HxP0no02HYwl"
      }
    },
    {
      "cell_type": "markdown",
      "source": [
        "###c. Tuning \"j\"\n",
        "Here we will attempt to tune the hyperparameter \"j\" from last section in order to obtain a better fit to the data. As per the suggestion of the problem description itself we will use all values in range [1, 10] to see which of them results in the best fit."
      ],
      "metadata": {
        "id": "NzNfWR8pHj-k"
      }
    },
    {
      "cell_type": "code",
      "source": [
        "for j in range(1, 11):\n",
        "  print(f'Testing j={j}')\n",
        "  linreg_fit_cosine(X, y, j=j)"
      ],
      "metadata": {
        "id": "exFM8e_DHz-6",
        "colab": {
          "base_uri": "https://localhost:8080/",
          "height": 1000
        },
        "outputId": "918f4e34-b274-4553-8e6c-13559191f8b2"
      },
      "execution_count": 30,
      "outputs": [
        {
          "output_type": "stream",
          "name": "stdout",
          "text": [
            "Testing j=1\n",
            "Final coefficients of the regressor: [[ 0.         -0.03189758]]\n",
            "Regressor score: 0.0002215518033841235\n",
            "Report of MSEs on each split:\n",
            "\tMSE(train): 2.3277440098337014\n",
            "\tMSE(val): 1.6594905523557482\n",
            "\tMSE(test): 2.4020864649078297\n"
          ]
        },
        {
          "output_type": "display_data",
          "data": {
            "text/plain": [
              "<Figure size 432x288 with 3 Axes>"
            ],
            "image/png": "[encoded data removed]"
          },
          "metadata": {
            "needs_background": "light"
          }
        },
        {
          "output_type": "stream",
          "name": "stdout",
          "text": [
            "Testing j=2\n",
            "Final coefficients of the regressor: [[ 0.         -0.05551628]]\n",
            "Regressor score: 0.000643435105608936\n",
            "Report of MSEs on each split:\n",
            "\tMSE(train): 2.3267617558839646\n",
            "\tMSE(val): 1.6591098815572363\n",
            "\tMSE(test): 2.446255149980014\n"
          ]
        },
        {
          "output_type": "display_data",
          "data": {
            "text/plain": [
              "<Figure size 432x288 with 3 Axes>"
            ],
            "image/png": "[encoded data removed]"
          },
          "metadata": {
            "needs_background": "light"
          }
        },
        {
          "output_type": "stream",
          "name": "stdout",
          "text": [
            "Testing j=3\n",
            "Final coefficients of the regressor: [[ 0.         -0.15694609]]\n",
            "Regressor score: 0.005232244261019314\n",
            "Report of MSEs on each split:\n",
            "\tMSE(train): 2.316077815813998\n",
            "\tMSE(val): 1.6850397448926735\n",
            "\tMSE(test): 2.4500586520383125\n"
          ]
        },
        {
          "output_type": "display_data",
          "data": {
            "text/plain": [
              "<Figure size 432x288 with 3 Axes>"
            ],
            "image/png": "[encoded data removed]"
          },
          "metadata": {
            "needs_background": "light"
          }
        },
        {
          "output_type": "stream",
          "name": "stdout",
          "text": [
            "Testing j=4\n",
            "Final coefficients of the regressor: [[ 0.         -0.30156716]]\n",
            "Regressor score: 0.01867236268209116\n",
            "Report of MSEs on each split:\n",
            "\tMSE(train): 2.2847857278493726\n",
            "\tMSE(val): 1.7854294523007823\n",
            "\tMSE(test): 2.388159625297593\n"
          ]
        },
        {
          "output_type": "display_data",
          "data": {
            "text/plain": [
              "<Figure size 432x288 with 3 Axes>"
            ],
            "image/png": "[encoded data removed]"
          },
          "metadata": {
            "needs_background": "light"
          }
        },
        {
          "output_type": "stream",
          "name": "stdout",
          "text": [
            "Testing j=5\n",
            "Final coefficients of the regressor: [[0.         2.05582086]]\n",
            "Regressor score: 0.8698875713974052\n",
            "Report of MSEs on each split:\n",
            "\tMSE(train): 0.30293554220028857\n",
            "\tMSE(val): 0.009012453456621543\n",
            "\tMSE(test): 0.011749427917484628\n"
          ]
        },
        {
          "output_type": "display_data",
          "data": {
            "text/plain": [
              "<Figure size 432x288 with 3 Axes>"
            ],
            "image/png": "[encoded data removed]"
          },
          "metadata": {
            "needs_background": "light"
          }
        },
        {
          "output_type": "stream",
          "name": "stdout",
          "text": [
            "Testing j=6\n",
            "Final coefficients of the regressor: [[0.         0.78117093]]\n",
            "Regressor score: 0.1182670807858166\n",
            "Report of MSEs on each split:\n",
            "\tMSE(train): 2.0529033454123478\n",
            "\tMSE(val): 1.5653508761848969\n",
            "\tMSE(test): 2.2850451168013253\n"
          ]
        },
        {
          "output_type": "display_data",
          "data": {
            "text/plain": [
              "<Figure size 432x288 with 3 Axes>"
            ],
            "image/png": "[encoded data removed]"
          },
          "metadata": {
            "needs_background": "light"
          }
        },
        {
          "output_type": "stream",
          "name": "stdout",
          "text": [
            "Testing j=7\n",
            "Final coefficients of the regressor: [[ 0.         -0.41190568]]\n",
            "Regressor score: 0.03643795281162232\n",
            "Report of MSEs on each split:\n",
            "\tMSE(train): 2.2434228178168847\n",
            "\tMSE(val): 1.9139325105547418\n",
            "\tMSE(test): 2.074114276406795\n"
          ]
        },
        {
          "output_type": "display_data",
          "data": {
            "text/plain": [
              "<Figure size 432x288 with 3 Axes>"
            ],
            "image/png": "[encoded data removed]"
          },
          "metadata": {
            "needs_background": "light"
          }
        },
        {
          "output_type": "stream",
          "name": "stdout",
          "text": [
            "Testing j=8\n",
            "Final coefficients of the regressor: [[ 0.         -0.44103515]]\n",
            "Regressor score: 0.03572447919947708\n",
            "Report of MSEs on each split:\n",
            "\tMSE(train): 2.2450839697749423\n",
            "\tMSE(val): 2.024163336500701\n",
            "\tMSE(test): 2.0453263264926758\n"
          ]
        },
        {
          "output_type": "display_data",
          "data": {
            "text/plain": [
              "<Figure size 432x288 with 3 Axes>"
            ],
            "image/png": "[encoded data removed]"
          },
          "metadata": {
            "needs_background": "light"
          }
        },
        {
          "output_type": "stream",
          "name": "stdout",
          "text": [
            "Testing j=9\n",
            "Final coefficients of the regressor: [[ 0.         -0.02284021]]\n",
            "Regressor score: 8.987684832340026e-05\n",
            "Report of MSEs on each split:\n",
            "\tMSE(train): 2.328050583343503\n",
            "\tMSE(val): 1.6710052796547772\n",
            "\tMSE(test): 2.3989907351100186\n"
          ]
        },
        {
          "output_type": "display_data",
          "data": {
            "text/plain": [
              "<Figure size 432x288 with 3 Axes>"
            ],
            "image/png": "[encoded data removed]"
          },
          "metadata": {
            "needs_background": "light"
          }
        },
        {
          "output_type": "stream",
          "name": "stdout",
          "text": [
            "Testing j=10\n",
            "Final coefficients of the regressor: [[0.         0.24414913]]\n",
            "Regressor score: 0.012230105422158521\n",
            "Report of MSEs on each split:\n",
            "\tMSE(train): 2.299784976706622\n",
            "\tMSE(val): 1.5193310980504227\n",
            "\tMSE(test): 2.4943529982942936\n"
          ]
        },
        {
          "output_type": "display_data",
          "data": {
            "text/plain": [
              "<Figure size 432x288 with 3 Axes>"
            ],
            "image/png": "[encoded data removed]"
          },
          "metadata": {
            "needs_background": "light"
          }
        }
      ]
    },
    {
      "cell_type": "markdown",
      "source": [
        "Judging by the R2 scores of the regressor, for $j=5$ we can see that we obtained a near perfect fit to our data.\n",
        "\n",
        "It is not without its merits to also take a look at the transformed space for $j=5$ and confirm that this transform indeed will be a perfect fit for a linear regressor:\n"
      ],
      "metadata": {
        "id": "madBdr6mILoq"
      }
    },
    {
      "cell_type": "code",
      "source": [
        "X_5 = {\n",
        "    'train': np.cos(train[:, 0].reshape(-1, 1)/5),\n",
        "    'val': np.cos(val[:, 0].reshape(-1, 1)/5),\n",
        "    'test': np.cos(test[:, 0].reshape(-1, 1)/5)\n",
        "}\n",
        "\n",
        "# scatter plot of the entire dataset in one \n",
        "plt.scatter(X_5['train'], y['train'], color='blue')\n",
        "plt.scatter(X_5['val'], y['val'], color='red')\n",
        "plt.scatter(X_5['test'], y['test'], color='green')\n",
        "plt.legend(['Train X_5', 'Validation X_5', 'Test X_5'])\n",
        "plt.show()"
      ],
      "metadata": {
        "id": "_gv5nNvoK0iw",
        "colab": {
          "base_uri": "https://localhost:8080/",
          "height": 265
        },
        "outputId": "c6314bfe-2736-4107-edef-ad2e10b3c27b"
      },
      "execution_count": 31,
      "outputs": [
        {
          "output_type": "display_data",
          "data": {
            "text/plain": [
              "<Figure size 432x288 with 1 Axes>"
            ],
            "image/png": "[encoded data removed]"
          },
          "metadata": {
            "needs_background": "light"
          }
        }
      ]
    }
  ]
}